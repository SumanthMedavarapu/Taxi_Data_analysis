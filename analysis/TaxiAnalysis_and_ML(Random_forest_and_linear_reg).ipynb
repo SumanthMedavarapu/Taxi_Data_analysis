{
 "cells": [
  {
   "cell_type": "code",
   "execution_count": 23,
   "id": "02d708db",
   "metadata": {},
   "outputs": [],
   "source": [
    "import pandas\n",
    "from pandas.io import gbq"
   ]
  },
  {
   "cell_type": "code",
   "execution_count": 24,
   "id": "822dfaf6",
   "metadata": {},
   "outputs": [
    {
     "name": "stderr",
     "output_type": "stream",
     "text": [
      "c:\\python37\\lib\\site-packages\\google\\cloud\\bigquery\\table.py:2009: FutureWarning: Using .astype to convert from timezone-aware dtype to timezone-naive dtype is deprecated and will raise in a future version.  Use obj.tz_localize(None) or obj.tz_convert('UTC').tz_localize(None) instead\n",
      "  df[column] = pandas.Series(df[column], dtype=dtypes[column])\n"
     ]
    }
   ],
   "source": [
    "df= gbq.read_gbq(\"SELECT * FROM `medavarapusumanth.sample.test1` LIMIT 1000\",project_id='medavarapusumanth')"
   ]
  },
  {
   "cell_type": "markdown",
   "id": "e3fff07f",
   "metadata": {},
   "source": [
    "## Created Service account and given Bigquery admin permission inorder to access BigQuery client and access tables"
   ]
  },
  {
   "cell_type": "code",
   "execution_count": 212,
   "id": "0c2281f0",
   "metadata": {},
   "outputs": [],
   "source": [
    "import os\n",
    "# given key path\n",
    "credentials_path = \"C:/Users/sumanth/Downloads/medavarapusumanth-bigqueryaccess.json\"\n",
    "os.environ['GOOGLE_APPLICATION_CREDENTIALS'] = credentials_path"
   ]
  },
  {
   "cell_type": "code",
   "execution_count": 26,
   "id": "5f8261ef",
   "metadata": {},
   "outputs": [
    {
     "data": {
      "text/html": [
       "<div>\n",
       "<style scoped>\n",
       "    .dataframe tbody tr th:only-of-type {\n",
       "        vertical-align: middle;\n",
       "    }\n",
       "\n",
       "    .dataframe tbody tr th {\n",
       "        vertical-align: top;\n",
       "    }\n",
       "\n",
       "    .dataframe thead th {\n",
       "        text-align: right;\n",
       "    }\n",
       "</style>\n",
       "<table border=\"1\" class=\"dataframe\">\n",
       "  <thead>\n",
       "    <tr style=\"text-align: right;\">\n",
       "      <th></th>\n",
       "      <th>vendorid</th>\n",
       "      <th>passenger_count</th>\n",
       "      <th>trip_distance</th>\n",
       "      <th>ratecodeid</th>\n",
       "      <th>pulocationid</th>\n",
       "      <th>dolocationid</th>\n",
       "      <th>payment_type</th>\n",
       "      <th>fare_amount</th>\n",
       "      <th>extra</th>\n",
       "      <th>mta_tax</th>\n",
       "      <th>tip_amount</th>\n",
       "      <th>tolls_amount</th>\n",
       "      <th>improvement_surcharge</th>\n",
       "      <th>total_amount</th>\n",
       "      <th>congestion_surcharge</th>\n",
       "    </tr>\n",
       "  </thead>\n",
       "  <tbody>\n",
       "    <tr>\n",
       "      <th>count</th>\n",
       "      <td>1000.000000</td>\n",
       "      <td>1000.000000</td>\n",
       "      <td>1000.000000</td>\n",
       "      <td>1000.0000</td>\n",
       "      <td>1000.000000</td>\n",
       "      <td>1000.000000</td>\n",
       "      <td>1000.00000</td>\n",
       "      <td>1000.000000</td>\n",
       "      <td>1000.000000</td>\n",
       "      <td>1000.000000</td>\n",
       "      <td>1000.000000</td>\n",
       "      <td>1000.000000</td>\n",
       "      <td>1.000000e+03</td>\n",
       "      <td>1000.00000</td>\n",
       "      <td>1000.000000</td>\n",
       "    </tr>\n",
       "    <tr>\n",
       "      <th>mean</th>\n",
       "      <td>31.597000</td>\n",
       "      <td>1.487000</td>\n",
       "      <td>2.670400</td>\n",
       "      <td>1.0360</td>\n",
       "      <td>162.591000</td>\n",
       "      <td>162.143000</td>\n",
       "      <td>1.33100</td>\n",
       "      <td>12.783650</td>\n",
       "      <td>0.920000</td>\n",
       "      <td>0.497500</td>\n",
       "      <td>1.995130</td>\n",
       "      <td>0.370880</td>\n",
       "      <td>3.000000e-01</td>\n",
       "      <td>18.25606</td>\n",
       "      <td>2.292500</td>\n",
       "    </tr>\n",
       "    <tr>\n",
       "      <th>std</th>\n",
       "      <td>547.123173</td>\n",
       "      <td>1.121199</td>\n",
       "      <td>3.673812</td>\n",
       "      <td>0.2584</td>\n",
       "      <td>65.693556</td>\n",
       "      <td>68.795679</td>\n",
       "      <td>0.49161</td>\n",
       "      <td>11.049766</td>\n",
       "      <td>1.206257</td>\n",
       "      <td>0.035284</td>\n",
       "      <td>2.466745</td>\n",
       "      <td>1.680293</td>\n",
       "      <td>1.110779e-16</td>\n",
       "      <td>13.69979</td>\n",
       "      <td>0.690051</td>\n",
       "    </tr>\n",
       "    <tr>\n",
       "      <th>min</th>\n",
       "      <td>1.000000</td>\n",
       "      <td>0.000000</td>\n",
       "      <td>0.000000</td>\n",
       "      <td>1.0000</td>\n",
       "      <td>4.000000</td>\n",
       "      <td>1.000000</td>\n",
       "      <td>1.00000</td>\n",
       "      <td>2.500000</td>\n",
       "      <td>0.000000</td>\n",
       "      <td>0.000000</td>\n",
       "      <td>0.000000</td>\n",
       "      <td>0.000000</td>\n",
       "      <td>3.000000e-01</td>\n",
       "      <td>3.30000</td>\n",
       "      <td>0.000000</td>\n",
       "    </tr>\n",
       "    <tr>\n",
       "      <th>25%</th>\n",
       "      <td>1.000000</td>\n",
       "      <td>1.000000</td>\n",
       "      <td>0.900000</td>\n",
       "      <td>1.0000</td>\n",
       "      <td>132.000000</td>\n",
       "      <td>114.000000</td>\n",
       "      <td>1.00000</td>\n",
       "      <td>6.500000</td>\n",
       "      <td>0.000000</td>\n",
       "      <td>0.500000</td>\n",
       "      <td>0.000000</td>\n",
       "      <td>0.000000</td>\n",
       "      <td>3.000000e-01</td>\n",
       "      <td>10.56000</td>\n",
       "      <td>2.500000</td>\n",
       "    </tr>\n",
       "    <tr>\n",
       "      <th>50%</th>\n",
       "      <td>2.000000</td>\n",
       "      <td>1.000000</td>\n",
       "      <td>1.500000</td>\n",
       "      <td>1.0000</td>\n",
       "      <td>162.000000</td>\n",
       "      <td>162.000000</td>\n",
       "      <td>1.00000</td>\n",
       "      <td>9.500000</td>\n",
       "      <td>0.000000</td>\n",
       "      <td>0.500000</td>\n",
       "      <td>1.750000</td>\n",
       "      <td>0.000000</td>\n",
       "      <td>3.000000e-01</td>\n",
       "      <td>14.14500</td>\n",
       "      <td>2.500000</td>\n",
       "    </tr>\n",
       "    <tr>\n",
       "      <th>75%</th>\n",
       "      <td>2.000000</td>\n",
       "      <td>2.000000</td>\n",
       "      <td>2.592500</td>\n",
       "      <td>1.0000</td>\n",
       "      <td>233.000000</td>\n",
       "      <td>233.000000</td>\n",
       "      <td>2.00000</td>\n",
       "      <td>14.000000</td>\n",
       "      <td>2.500000</td>\n",
       "      <td>0.500000</td>\n",
       "      <td>2.760000</td>\n",
       "      <td>0.000000</td>\n",
       "      <td>3.000000e-01</td>\n",
       "      <td>19.56000</td>\n",
       "      <td>2.500000</td>\n",
       "    </tr>\n",
       "    <tr>\n",
       "      <th>max</th>\n",
       "      <td>10001.000000</td>\n",
       "      <td>6.000000</td>\n",
       "      <td>29.700000</td>\n",
       "      <td>5.0000</td>\n",
       "      <td>265.000000</td>\n",
       "      <td>265.000000</td>\n",
       "      <td>4.00000</td>\n",
       "      <td>89.000000</td>\n",
       "      <td>2.500000</td>\n",
       "      <td>0.500000</td>\n",
       "      <td>20.450000</td>\n",
       "      <td>17.490000</td>\n",
       "      <td>3.000000e-01</td>\n",
       "      <td>122.75000</td>\n",
       "      <td>2.500000</td>\n",
       "    </tr>\n",
       "  </tbody>\n",
       "</table>\n",
       "</div>"
      ],
      "text/plain": [
       "           vendorid  passenger_count  trip_distance  ratecodeid  pulocationid  \\\n",
       "count   1000.000000      1000.000000    1000.000000   1000.0000   1000.000000   \n",
       "mean      31.597000         1.487000       2.670400      1.0360    162.591000   \n",
       "std      547.123173         1.121199       3.673812      0.2584     65.693556   \n",
       "min        1.000000         0.000000       0.000000      1.0000      4.000000   \n",
       "25%        1.000000         1.000000       0.900000      1.0000    132.000000   \n",
       "50%        2.000000         1.000000       1.500000      1.0000    162.000000   \n",
       "75%        2.000000         2.000000       2.592500      1.0000    233.000000   \n",
       "max    10001.000000         6.000000      29.700000      5.0000    265.000000   \n",
       "\n",
       "       dolocationid  payment_type  fare_amount        extra      mta_tax  \\\n",
       "count   1000.000000    1000.00000  1000.000000  1000.000000  1000.000000   \n",
       "mean     162.143000       1.33100    12.783650     0.920000     0.497500   \n",
       "std       68.795679       0.49161    11.049766     1.206257     0.035284   \n",
       "min        1.000000       1.00000     2.500000     0.000000     0.000000   \n",
       "25%      114.000000       1.00000     6.500000     0.000000     0.500000   \n",
       "50%      162.000000       1.00000     9.500000     0.000000     0.500000   \n",
       "75%      233.000000       2.00000    14.000000     2.500000     0.500000   \n",
       "max      265.000000       4.00000    89.000000     2.500000     0.500000   \n",
       "\n",
       "        tip_amount  tolls_amount  improvement_surcharge  total_amount  \\\n",
       "count  1000.000000   1000.000000           1.000000e+03    1000.00000   \n",
       "mean      1.995130      0.370880           3.000000e-01      18.25606   \n",
       "std       2.466745      1.680293           1.110779e-16      13.69979   \n",
       "min       0.000000      0.000000           3.000000e-01       3.30000   \n",
       "25%       0.000000      0.000000           3.000000e-01      10.56000   \n",
       "50%       1.750000      0.000000           3.000000e-01      14.14500   \n",
       "75%       2.760000      0.000000           3.000000e-01      19.56000   \n",
       "max      20.450000     17.490000           3.000000e-01     122.75000   \n",
       "\n",
       "       congestion_surcharge  \n",
       "count           1000.000000  \n",
       "mean               2.292500  \n",
       "std                0.690051  \n",
       "min                0.000000  \n",
       "25%                2.500000  \n",
       "50%                2.500000  \n",
       "75%                2.500000  \n",
       "max                2.500000  "
      ]
     },
     "execution_count": 26,
     "metadata": {},
     "output_type": "execute_result"
    }
   ],
   "source": [
    "df.describe()"
   ]
  },
  {
   "cell_type": "code",
   "execution_count": 27,
   "id": "fa541727",
   "metadata": {},
   "outputs": [
    {
     "data": {
      "text/plain": [
       "0       0.50\n",
       "1       0.70\n",
       "2      21.00\n",
       "3       0.60\n",
       "4      17.80\n",
       "       ...  \n",
       "995     0.53\n",
       "996     0.57\n",
       "997     0.68\n",
       "998     0.76\n",
       "999     0.42\n",
       "Name: trip_distance, Length: 1000, dtype: float64"
      ]
     },
     "execution_count": 27,
     "metadata": {},
     "output_type": "execute_result"
    }
   ],
   "source": [
    "df['trip_distance']"
   ]
  },
  {
   "cell_type": "code",
   "execution_count": 213,
   "id": "0afb74ee",
   "metadata": {},
   "outputs": [],
   "source": [
    "from google.cloud import bigquery\n",
    "\n",
    "client = bigquery.Client()"
   ]
  },
  {
   "cell_type": "code",
   "execution_count": 214,
   "id": "29b79518",
   "metadata": {},
   "outputs": [
    {
     "data": {
      "text/html": [
       "<div>\n",
       "<style scoped>\n",
       "    .dataframe tbody tr th:only-of-type {\n",
       "        vertical-align: middle;\n",
       "    }\n",
       "\n",
       "    .dataframe tbody tr th {\n",
       "        vertical-align: top;\n",
       "    }\n",
       "\n",
       "    .dataframe thead th {\n",
       "        text-align: right;\n",
       "    }\n",
       "</style>\n",
       "<table border=\"1\" class=\"dataframe\">\n",
       "  <thead>\n",
       "    <tr style=\"text-align: right;\">\n",
       "      <th></th>\n",
       "      <th>hour</th>\n",
       "      <th>speed</th>\n",
       "    </tr>\n",
       "  </thead>\n",
       "  <tbody>\n",
       "    <tr>\n",
       "      <th>0</th>\n",
       "      <td>10</td>\n",
       "      <td>4.0</td>\n",
       "    </tr>\n",
       "    <tr>\n",
       "      <th>1</th>\n",
       "      <td>12</td>\n",
       "      <td>11.0</td>\n",
       "    </tr>\n",
       "    <tr>\n",
       "      <th>2</th>\n",
       "      <td>13</td>\n",
       "      <td>9.7</td>\n",
       "    </tr>\n",
       "    <tr>\n",
       "      <th>3</th>\n",
       "      <td>14</td>\n",
       "      <td>11.7</td>\n",
       "    </tr>\n",
       "  </tbody>\n",
       "</table>\n",
       "</div>"
      ],
      "text/plain": [
       "   hour  speed\n",
       "0    10    4.0\n",
       "1    12   11.0\n",
       "2    13    9.7\n",
       "3    14   11.7"
      ]
     },
     "execution_count": 214,
     "metadata": {},
     "output_type": "execute_result"
    }
   ],
   "source": [
    "sql = \"\"\"\n",
    "\n",
    "SELECT\n",
    "  EXTRACT(HOUR\n",
    "  FROM\n",
    "    tpep_pickup_datetime) hour,\n",
    "  ROUND(AVG(trip_distance / TIMESTAMP_DIFF(tpep_dropoff_datetime,\n",
    "        tpep_pickup_datetime,\n",
    "        SECOND))*3600, 1) speed\n",
    "FROM\n",
    "   `medavarapusumanth.sample.test1`\n",
    "WHERE\n",
    "  trip_distance > 0\n",
    "  AND fare_amount/trip_distance BETWEEN 2\n",
    "  AND 10\n",
    "  AND tpep_dropoff_datetime > tpep_pickup_datetime\n",
    "GROUP BY\n",
    "  1\n",
    "ORDER BY\n",
    "  1\n",
    "\n",
    "\"\"\"\n",
    "avgspeed_df = client.query(sql).to_dataframe()\n",
    "avgspeed_df.head()"
   ]
  },
  {
   "cell_type": "code",
   "execution_count": 215,
   "id": "4b14b098",
   "metadata": {},
   "outputs": [
    {
     "data": {
      "text/plain": [
       "Text(0, 0.5, 'speed')"
      ]
     },
     "execution_count": 215,
     "metadata": {},
     "output_type": "execute_result"
    },
    {
     "data": {
      "image/png": "[encoded data removed]",
      "text/plain": [
       "<Figure size 864x576 with 1 Axes>"
      ]
     },
     "metadata": {
      "needs_background": "light"
     },
     "output_type": "display_data"
    }
   ],
   "source": [
    "\n",
    "ax = avgspeed_df.plot(kind=\"bar\", x=\"hour\", y=\"speed\")\n",
    "ax.set_title(\"average speed calculated in miles per hour\")\n",
    "ax.set_xlabel(\"hour\")\n",
    "ax.set_ylabel(\"speed\")"
   ]
  },
  {
   "cell_type": "code",
   "execution_count": 216,
   "id": "b742c134",
   "metadata": {},
   "outputs": [
    {
     "data": {
      "text/html": [
       "<div>\n",
       "<style scoped>\n",
       "    .dataframe tbody tr th:only-of-type {\n",
       "        vertical-align: middle;\n",
       "    }\n",
       "\n",
       "    .dataframe tbody tr th {\n",
       "        vertical-align: top;\n",
       "    }\n",
       "\n",
       "    .dataframe thead th {\n",
       "        text-align: right;\n",
       "    }\n",
       "</style>\n",
       "<table border=\"1\" class=\"dataframe\">\n",
       "  <thead>\n",
       "    <tr style=\"text-align: right;\">\n",
       "      <th></th>\n",
       "      <th>month</th>\n",
       "      <th>trips</th>\n",
       "    </tr>\n",
       "  </thead>\n",
       "  <tbody>\n",
       "    <tr>\n",
       "      <th>0</th>\n",
       "      <td>2019-07-01 00:00:00+00:00</td>\n",
       "      <td>1004</td>\n",
       "    </tr>\n",
       "  </tbody>\n",
       "</table>\n",
       "</div>"
      ],
      "text/plain": [
       "                      month  trips\n",
       "0 2019-07-01 00:00:00+00:00   1004"
      ]
     },
     "execution_count": 216,
     "metadata": {},
     "output_type": "execute_result"
    }
   ],
   "source": [
    "no_of_trips = \"\"\"\n",
    "\n",
    "#standardSQL\n",
    "SELECT\n",
    "  TIMESTAMP_TRUNC(tpep_pickup_datetime,\n",
    "    MONTH) month,\n",
    "  COUNT(*) trips\n",
    "FROM\n",
    "  `medavarapusumanth.sample.test1`\n",
    "GROUP BY\n",
    "  1\n",
    "ORDER BY\n",
    "  1\n",
    "\n",
    "\"\"\"\n",
    "num_trips_df = client.query(no_of_trips).to_dataframe()\n",
    "num_trips_df.head()"
   ]
  },
  {
   "cell_type": "code",
   "execution_count": 222,
   "id": "a3114554",
   "metadata": {},
   "outputs": [
    {
     "data": {
      "text/plain": [
       "Text(0, 0.5, 'trips')"
      ]
     },
     "execution_count": 222,
     "metadata": {},
     "output_type": "execute_result"
    },
    {
     "data": {
      "image/png": "[encoded data removed]",
      "text/plain": [
       "<Figure size 864x576 with 1 Axes>"
      ]
     },
     "metadata": {
      "needs_background": "light"
     },
     "output_type": "display_data"
    }
   ],
   "source": [
    "# Bar plot Month vs No of Trips\n",
    "ax = num_trips_df.plot(kind=\"bar\", x=\"month\", y=\"trips\")\n",
    "ax.set_title(\"number of trips made in each month\")\n",
    "ax.set_xlabel(\"month\")\n",
    "ax.set_ylabel(\"trips\")"
   ]
  },
  {
   "cell_type": "code",
   "execution_count": 218,
   "id": "4daf59eb",
   "metadata": {},
   "outputs": [
    {
     "data": {
      "text/html": [
       "<div>\n",
       "<style scoped>\n",
       "    .dataframe tbody tr th:only-of-type {\n",
       "        vertical-align: middle;\n",
       "    }\n",
       "\n",
       "    .dataframe tbody tr th {\n",
       "        vertical-align: top;\n",
       "    }\n",
       "\n",
       "    .dataframe thead th {\n",
       "        text-align: right;\n",
       "    }\n",
       "</style>\n",
       "<table border=\"1\" class=\"dataframe\">\n",
       "  <thead>\n",
       "    <tr style=\"text-align: right;\">\n",
       "      <th></th>\n",
       "      <th>trip_distance</th>\n",
       "      <th>fare_amount</th>\n",
       "    </tr>\n",
       "  </thead>\n",
       "  <tbody>\n",
       "    <tr>\n",
       "      <th>0</th>\n",
       "      <td>5.10</td>\n",
       "      <td>17.0</td>\n",
       "    </tr>\n",
       "    <tr>\n",
       "      <th>1</th>\n",
       "      <td>4.83</td>\n",
       "      <td>17.0</td>\n",
       "    </tr>\n",
       "    <tr>\n",
       "      <th>2</th>\n",
       "      <td>4.69</td>\n",
       "      <td>18.0</td>\n",
       "    </tr>\n",
       "    <tr>\n",
       "      <th>3</th>\n",
       "      <td>6.15</td>\n",
       "      <td>19.0</td>\n",
       "    </tr>\n",
       "    <tr>\n",
       "      <th>4</th>\n",
       "      <td>5.30</td>\n",
       "      <td>20.0</td>\n",
       "    </tr>\n",
       "  </tbody>\n",
       "</table>\n",
       "</div>"
      ],
      "text/plain": [
       "   trip_distance  fare_amount\n",
       "0           5.10         17.0\n",
       "1           4.83         17.0\n",
       "2           4.69         18.0\n",
       "3           6.15         19.0\n",
       "4           5.30         20.0"
      ]
     },
     "execution_count": 218,
     "metadata": {},
     "output_type": "execute_result"
    }
   ],
   "source": [
    "fare_and_dist = \"\"\"\n",
    "\n",
    "SELECT\n",
    "  trip_distance,\n",
    "  fare_amount,\n",
    "  \n",
    "FROM\n",
    "  #`medavarapusumanth.sample.test1`\n",
    "  `nyc-tlc.yellow.trips`\n",
    "WHERE\n",
    "    MOD(ABS(FARM_FINGERPRINT(CAST(pickup_datetime AS STRING))), 5000)= 1\n",
    "\n",
    "\"\"\"\n",
    "fare_amt_dist_df = client.query(fare_and_dist).to_dataframe()\n",
    "fare_amt_dist_df.head()"
   ]
  },
  {
   "cell_type": "code",
   "execution_count": 219,
   "id": "674eb5d5",
   "metadata": {},
   "outputs": [
    {
     "data": {
      "image/png": "[encoded data removed]",
      "text/plain": [
       "<Figure size 864x576 with 1 Axes>"
      ]
     },
     "metadata": {
      "needs_background": "light"
     },
     "output_type": "display_data"
    }
   ],
   "source": [
    "#scatter plot Trip_distance Vs Fare Amount\n",
    "ax1 = fare_amt_dist_df.plot.scatter(x='trip_distance',\n",
    "                      y='fare_amount',\n",
    "                      c='DarkBlue')"
   ]
  },
  {
   "cell_type": "code",
   "execution_count": 220,
   "id": "537160b3",
   "metadata": {},
   "outputs": [
    {
     "data": {
      "text/html": [
       "<div>\n",
       "<style scoped>\n",
       "    .dataframe tbody tr th:only-of-type {\n",
       "        vertical-align: middle;\n",
       "    }\n",
       "\n",
       "    .dataframe tbody tr th {\n",
       "        vertical-align: top;\n",
       "    }\n",
       "\n",
       "    .dataframe thead th {\n",
       "        text-align: right;\n",
       "    }\n",
       "</style>\n",
       "<table border=\"1\" class=\"dataframe\">\n",
       "  <thead>\n",
       "    <tr style=\"text-align: right;\">\n",
       "      <th></th>\n",
       "      <th>fare_amount</th>\n",
       "      <th>dayofweek</th>\n",
       "      <th>hourofday</th>\n",
       "    </tr>\n",
       "  </thead>\n",
       "  <tbody>\n",
       "    <tr>\n",
       "      <th>0</th>\n",
       "      <td>7.0</td>\n",
       "      <td>2</td>\n",
       "      <td>0</td>\n",
       "    </tr>\n",
       "    <tr>\n",
       "      <th>1</th>\n",
       "      <td>26.5</td>\n",
       "      <td>5</td>\n",
       "      <td>0</td>\n",
       "    </tr>\n",
       "    <tr>\n",
       "      <th>2</th>\n",
       "      <td>5.3</td>\n",
       "      <td>6</td>\n",
       "      <td>0</td>\n",
       "    </tr>\n",
       "    <tr>\n",
       "      <th>3</th>\n",
       "      <td>9.7</td>\n",
       "      <td>6</td>\n",
       "      <td>0</td>\n",
       "    </tr>\n",
       "    <tr>\n",
       "      <th>4</th>\n",
       "      <td>3.7</td>\n",
       "      <td>5</td>\n",
       "      <td>0</td>\n",
       "    </tr>\n",
       "  </tbody>\n",
       "</table>\n",
       "</div>"
      ],
      "text/plain": [
       "   fare_amount  dayofweek  hourofday\n",
       "0          7.0          2          0\n",
       "1         26.5          5          0\n",
       "2          5.3          6          0\n",
       "3          9.7          6          0\n",
       "4          3.7          5          0"
      ]
     },
     "execution_count": 220,
     "metadata": {},
     "output_type": "execute_result"
    }
   ],
   "source": [
    "test = \"\"\"\n",
    "SELECT\n",
    "  (tolls_amount + fare_amount) AS fare_amount, -- label\n",
    "  EXTRACT(DAYOFWEEK from pickup_datetime) AS dayofweek,\n",
    "  EXTRACT(HOUR from pickup_datetime) AS hourofday\n",
    "FROM\n",
    "      `nyc-tlc.yellow.trips`\n",
    "WHERE\n",
    "    MOD(ABS(FARM_FINGERPRINT(CAST(pickup_datetime AS STRING))), 5000)= 1\n",
    "\n",
    "\n",
    "\"\"\"\n",
    "    \n",
    "trial_df = client.query(test).to_dataframe()\n",
    "trial_df.head()"
   ]
  },
  {
   "cell_type": "markdown",
   "id": "ba9e1a30",
   "metadata": {},
   "source": [
    "## Proof of Concept"
   ]
  },
  {
   "cell_type": "code",
   "execution_count": 179,
   "id": "122fa89c",
   "metadata": {},
   "outputs": [
    {
     "data": {
      "text/html": [
       "<div>\n",
       "<style scoped>\n",
       "    .dataframe tbody tr th:only-of-type {\n",
       "        vertical-align: middle;\n",
       "    }\n",
       "\n",
       "    .dataframe tbody tr th {\n",
       "        vertical-align: top;\n",
       "    }\n",
       "\n",
       "    .dataframe thead th {\n",
       "        text-align: right;\n",
       "    }\n",
       "</style>\n",
       "<table border=\"1\" class=\"dataframe\">\n",
       "  <thead>\n",
       "    <tr style=\"text-align: right;\">\n",
       "      <th></th>\n",
       "      <th>vendor_id</th>\n",
       "      <th>pickup_datetime</th>\n",
       "      <th>dropoff_datetime</th>\n",
       "      <th>pickup_longitude</th>\n",
       "      <th>pickup_latitude</th>\n",
       "      <th>dropoff_longitude</th>\n",
       "      <th>dropoff_latitude</th>\n",
       "      <th>rate_code</th>\n",
       "      <th>passenger_count</th>\n",
       "      <th>trip_distance</th>\n",
       "      <th>payment_type</th>\n",
       "      <th>fare_amount</th>\n",
       "      <th>extra</th>\n",
       "      <th>mta_tax</th>\n",
       "      <th>imp_surcharge</th>\n",
       "      <th>tip_amount</th>\n",
       "      <th>tolls_amount</th>\n",
       "      <th>total_amount</th>\n",
       "      <th>store_and_fwd_flag</th>\n",
       "    </tr>\n",
       "  </thead>\n",
       "  <tbody>\n",
       "    <tr>\n",
       "      <th>0</th>\n",
       "      <td>VTS</td>\n",
       "      <td>2009-09-23T00:27:00Z</td>\n",
       "      <td>2009-09-23T00:28:00Z</td>\n",
       "      <td>-74.027698</td>\n",
       "      <td>40.624417</td>\n",
       "      <td>-74.027698</td>\n",
       "      <td>40.624418</td>\n",
       "      <td>NaN</td>\n",
       "      <td>2</td>\n",
       "      <td>0.00</td>\n",
       "      <td>CRD</td>\n",
       "      <td>2.5</td>\n",
       "      <td>0.5</td>\n",
       "      <td>NaN</td>\n",
       "      <td>NaN</td>\n",
       "      <td>51.30</td>\n",
       "      <td>0.0</td>\n",
       "      <td>54.30</td>\n",
       "      <td>NaN</td>\n",
       "    </tr>\n",
       "    <tr>\n",
       "      <th>1</th>\n",
       "      <td>VTS</td>\n",
       "      <td>2013-01-24T08:46:00Z</td>\n",
       "      <td>2013-01-24T08:50:00Z</td>\n",
       "      <td>-74.010235</td>\n",
       "      <td>40.719398</td>\n",
       "      <td>-74.011127</td>\n",
       "      <td>40.714970</td>\n",
       "      <td>1.0</td>\n",
       "      <td>1</td>\n",
       "      <td>0.42</td>\n",
       "      <td>CRD</td>\n",
       "      <td>3.5</td>\n",
       "      <td>0.0</td>\n",
       "      <td>0.5</td>\n",
       "      <td>NaN</td>\n",
       "      <td>0.00</td>\n",
       "      <td>0.0</td>\n",
       "      <td>4.00</td>\n",
       "      <td>NaN</td>\n",
       "    </tr>\n",
       "    <tr>\n",
       "      <th>2</th>\n",
       "      <td>CMT</td>\n",
       "      <td>2015-03-24T15:51:54Z</td>\n",
       "      <td>2015-03-24T15:53:50Z</td>\n",
       "      <td>-73.978020</td>\n",
       "      <td>40.786297</td>\n",
       "      <td>-73.975533</td>\n",
       "      <td>40.792149</td>\n",
       "      <td>1.0</td>\n",
       "      <td>1</td>\n",
       "      <td>0.50</td>\n",
       "      <td>CRD</td>\n",
       "      <td>3.5</td>\n",
       "      <td>0.0</td>\n",
       "      <td>0.5</td>\n",
       "      <td>0.3</td>\n",
       "      <td>0.85</td>\n",
       "      <td>0.0</td>\n",
       "      <td>5.15</td>\n",
       "      <td>N</td>\n",
       "    </tr>\n",
       "    <tr>\n",
       "      <th>3</th>\n",
       "      <td>DDS</td>\n",
       "      <td>2009-03-09T05:52:52Z</td>\n",
       "      <td>2009-03-09T05:56:47Z</td>\n",
       "      <td>-73.901685</td>\n",
       "      <td>40.762523</td>\n",
       "      <td>-73.901685</td>\n",
       "      <td>40.762523</td>\n",
       "      <td>NaN</td>\n",
       "      <td>1</td>\n",
       "      <td>1.00</td>\n",
       "      <td>CSH</td>\n",
       "      <td>4.5</td>\n",
       "      <td>0.0</td>\n",
       "      <td>NaN</td>\n",
       "      <td>NaN</td>\n",
       "      <td>0.00</td>\n",
       "      <td>0.0</td>\n",
       "      <td>4.50</td>\n",
       "      <td>NaN</td>\n",
       "    </tr>\n",
       "    <tr>\n",
       "      <th>4</th>\n",
       "      <td>VTS</td>\n",
       "      <td>2009-04-06T09:46:00Z</td>\n",
       "      <td>2009-04-06T09:50:00Z</td>\n",
       "      <td>-73.958345</td>\n",
       "      <td>40.778523</td>\n",
       "      <td>-73.954532</td>\n",
       "      <td>40.786757</td>\n",
       "      <td>NaN</td>\n",
       "      <td>5</td>\n",
       "      <td>0.67</td>\n",
       "      <td>CSH</td>\n",
       "      <td>4.5</td>\n",
       "      <td>0.0</td>\n",
       "      <td>NaN</td>\n",
       "      <td>NaN</td>\n",
       "      <td>0.00</td>\n",
       "      <td>0.0</td>\n",
       "      <td>4.50</td>\n",
       "      <td>NaN</td>\n",
       "    </tr>\n",
       "  </tbody>\n",
       "</table>\n",
       "</div>"
      ],
      "text/plain": [
       "  vendor_id       pickup_datetime      dropoff_datetime  pickup_longitude  \\\n",
       "0       VTS  2009-09-23T00:27:00Z  2009-09-23T00:28:00Z        -74.027698   \n",
       "1       VTS  2013-01-24T08:46:00Z  2013-01-24T08:50:00Z        -74.010235   \n",
       "2       CMT  2015-03-24T15:51:54Z  2015-03-24T15:53:50Z        -73.978020   \n",
       "3       DDS  2009-03-09T05:52:52Z  2009-03-09T05:56:47Z        -73.901685   \n",
       "4       VTS  2009-04-06T09:46:00Z  2009-04-06T09:50:00Z        -73.958345   \n",
       "\n",
       "   pickup_latitude  dropoff_longitude  dropoff_latitude  rate_code  \\\n",
       "0        40.624417         -74.027698         40.624418        NaN   \n",
       "1        40.719398         -74.011127         40.714970        1.0   \n",
       "2        40.786297         -73.975533         40.792149        1.0   \n",
       "3        40.762523         -73.901685         40.762523        NaN   \n",
       "4        40.778523         -73.954532         40.786757        NaN   \n",
       "\n",
       "   passenger_count  trip_distance payment_type  fare_amount  extra  mta_tax  \\\n",
       "0                2           0.00          CRD          2.5    0.5      NaN   \n",
       "1                1           0.42          CRD          3.5    0.0      0.5   \n",
       "2                1           0.50          CRD          3.5    0.0      0.5   \n",
       "3                1           1.00          CSH          4.5    0.0      NaN   \n",
       "4                5           0.67          CSH          4.5    0.0      NaN   \n",
       "\n",
       "   imp_surcharge  tip_amount  tolls_amount  total_amount store_and_fwd_flag  \n",
       "0            NaN       51.30           0.0         54.30                NaN  \n",
       "1            NaN        0.00           0.0          4.00                NaN  \n",
       "2            0.3        0.85           0.0          5.15                  N  \n",
       "3            NaN        0.00           0.0          4.50                NaN  \n",
       "4            NaN        0.00           0.0          4.50                NaN  "
      ]
     },
     "execution_count": 179,
     "metadata": {},
     "output_type": "execute_result"
    }
   ],
   "source": [
    "import pandas as pd\n",
    "df1 = pd.read_csv ('C:/Users/sumanth/Downloads/bquxjob_4ef3610d_17e1698f810.csv')\n",
    "df1.head()"
   ]
  },
  {
   "cell_type": "code",
   "execution_count": 182,
   "id": "d4cfd92e",
   "metadata": {},
   "outputs": [
    {
     "data": {
      "text/html": [
       "<div>\n",
       "<style scoped>\n",
       "    .dataframe tbody tr th:only-of-type {\n",
       "        vertical-align: middle;\n",
       "    }\n",
       "\n",
       "    .dataframe tbody tr th {\n",
       "        vertical-align: top;\n",
       "    }\n",
       "\n",
       "    .dataframe thead th {\n",
       "        text-align: right;\n",
       "    }\n",
       "</style>\n",
       "<table border=\"1\" class=\"dataframe\">\n",
       "  <thead>\n",
       "    <tr style=\"text-align: right;\">\n",
       "      <th></th>\n",
       "      <th>fare_amount</th>\n",
       "      <th>dayofweek</th>\n",
       "      <th>hourofday</th>\n",
       "    </tr>\n",
       "  </thead>\n",
       "  <tbody>\n",
       "    <tr>\n",
       "      <th>0</th>\n",
       "      <td>2.5</td>\n",
       "      <td>3</td>\n",
       "      <td>00</td>\n",
       "    </tr>\n",
       "    <tr>\n",
       "      <th>1</th>\n",
       "      <td>3.5</td>\n",
       "      <td>4</td>\n",
       "      <td>08</td>\n",
       "    </tr>\n",
       "    <tr>\n",
       "      <th>2</th>\n",
       "      <td>3.5</td>\n",
       "      <td>2</td>\n",
       "      <td>15</td>\n",
       "    </tr>\n",
       "    <tr>\n",
       "      <th>3</th>\n",
       "      <td>4.5</td>\n",
       "      <td>1</td>\n",
       "      <td>05</td>\n",
       "    </tr>\n",
       "    <tr>\n",
       "      <th>4</th>\n",
       "      <td>4.5</td>\n",
       "      <td>1</td>\n",
       "      <td>09</td>\n",
       "    </tr>\n",
       "  </tbody>\n",
       "</table>\n",
       "</div>"
      ],
      "text/plain": [
       "   fare_amount dayofweek hourofday\n",
       "0          2.5         3        00\n",
       "1          3.5         4        08\n",
       "2          3.5         2        15\n",
       "3          4.5         1        05\n",
       "4          4.5         1        09"
      ]
     },
     "execution_count": 182,
     "metadata": {},
     "output_type": "execute_result"
    }
   ],
   "source": [
    "from pandasql import sqldf\n",
    "mysql = lambda q: sqldf(q, globals())\n",
    "get_day_hour = mysql(\"SELECT (tolls_amount + fare_amount) AS fare_amount,strftime('%w',pickup_datetime) AS dayofweek,strftime('%H',pickup_datetime) AS hourofday FROM df1 LIMIT 5;\")\n",
    "get_day_hour.head()"
   ]
  },
  {
   "cell_type": "markdown",
   "id": "d4345d29",
   "metadata": {},
   "source": [
    "## Exploratory Data Analysis"
   ]
  },
  {
   "cell_type": "code",
   "execution_count": 183,
   "id": "0804b2ab",
   "metadata": {},
   "outputs": [
    {
     "data": {
      "text/html": [
       "<div>\n",
       "<style scoped>\n",
       "    .dataframe tbody tr th:only-of-type {\n",
       "        vertical-align: middle;\n",
       "    }\n",
       "\n",
       "    .dataframe tbody tr th {\n",
       "        vertical-align: top;\n",
       "    }\n",
       "\n",
       "    .dataframe thead th {\n",
       "        text-align: right;\n",
       "    }\n",
       "</style>\n",
       "<table border=\"1\" class=\"dataframe\">\n",
       "  <thead>\n",
       "    <tr style=\"text-align: right;\">\n",
       "      <th></th>\n",
       "      <th>dayofweek</th>\n",
       "      <th>nooftrips</th>\n",
       "    </tr>\n",
       "  </thead>\n",
       "  <tbody>\n",
       "    <tr>\n",
       "      <th>0</th>\n",
       "      <td>0</td>\n",
       "      <td>3668</td>\n",
       "    </tr>\n",
       "    <tr>\n",
       "      <th>1</th>\n",
       "      <td>1</td>\n",
       "      <td>3789</td>\n",
       "    </tr>\n",
       "    <tr>\n",
       "      <th>2</th>\n",
       "      <td>2</td>\n",
       "      <td>3917</td>\n",
       "    </tr>\n",
       "    <tr>\n",
       "      <th>3</th>\n",
       "      <td>3</td>\n",
       "      <td>3922</td>\n",
       "    </tr>\n",
       "    <tr>\n",
       "      <th>4</th>\n",
       "      <td>4</td>\n",
       "      <td>4165</td>\n",
       "    </tr>\n",
       "  </tbody>\n",
       "</table>\n",
       "</div>"
      ],
      "text/plain": [
       "  dayofweek  nooftrips\n",
       "0         0       3668\n",
       "1         1       3789\n",
       "2         2       3917\n",
       "3         3       3922\n",
       "4         4       4165"
      ]
     },
     "execution_count": 183,
     "metadata": {},
     "output_type": "execute_result"
    }
   ],
   "source": [
    "trips = \"\"\"\n",
    "SELECT\n",
    "  strftime('%w',pickup_datetime) AS dayofweek,\n",
    "  COUNT(*) nooftrips\n",
    "FROM\n",
    "  df1\n",
    "GROUP BY\n",
    "  1\n",
    "ORDER BY\n",
    "  1;\n",
    "\n",
    "\"\"\"\n",
    "day_and_no_of_trips = mysql(trips)\n",
    "day_and_no_of_trips.head()"
   ]
  },
  {
   "cell_type": "code",
   "execution_count": 184,
   "id": "62855a65",
   "metadata": {},
   "outputs": [
    {
     "data": {
      "text/plain": [
       "[Text(0, 0, 'Sun'),\n",
       " Text(1, 0, 'Mon'),\n",
       " Text(2, 0, 'Tues'),\n",
       " Text(3, 0, 'wed'),\n",
       " Text(4, 0, 'Thur'),\n",
       " Text(5, 0, 'Fri'),\n",
       " Text(6, 0, 'sat')]"
      ]
     },
     "execution_count": 184,
     "metadata": {},
     "output_type": "execute_result"
    },
    {
     "data": {
      "image/png": "[encoded data removed]",
      "text/plain": [
       "<Figure size 864x576 with 1 Axes>"
      ]
     },
     "metadata": {
      "needs_background": "light"
     },
     "output_type": "display_data"
    }
   ],
   "source": [
    "import seaborn as sns\n",
    "#plot no of trips\n",
    "g = sns.barplot(x=\"dayofweek\", y=\"nooftrips\", data=day_and_no_of_trips,palette='rainbow',)\n",
    "g.set_xticklabels(['Sun','Mon','Tues','wed','Thur','Fri','sat'])\n"
   ]
  },
  {
   "cell_type": "code",
   "execution_count": 27,
   "id": "dd51ca41",
   "metadata": {},
   "outputs": [
    {
     "data": {
      "text/html": [
       "<div>\n",
       "<style scoped>\n",
       "    .dataframe tbody tr th:only-of-type {\n",
       "        vertical-align: middle;\n",
       "    }\n",
       "\n",
       "    .dataframe tbody tr th {\n",
       "        vertical-align: top;\n",
       "    }\n",
       "\n",
       "    .dataframe thead th {\n",
       "        text-align: right;\n",
       "    }\n",
       "</style>\n",
       "<table border=\"1\" class=\"dataframe\">\n",
       "  <thead>\n",
       "    <tr style=\"text-align: right;\">\n",
       "      <th></th>\n",
       "      <th>dayofweek</th>\n",
       "      <th>avg_fare_amount</th>\n",
       "    </tr>\n",
       "  </thead>\n",
       "  <tbody>\n",
       "    <tr>\n",
       "      <th>0</th>\n",
       "      <td>0</td>\n",
       "      <td>11.107197</td>\n",
       "    </tr>\n",
       "    <tr>\n",
       "      <th>1</th>\n",
       "      <td>1</td>\n",
       "      <td>10.905263</td>\n",
       "    </tr>\n",
       "    <tr>\n",
       "      <th>2</th>\n",
       "      <td>2</td>\n",
       "      <td>10.877470</td>\n",
       "    </tr>\n",
       "    <tr>\n",
       "      <th>3</th>\n",
       "      <td>3</td>\n",
       "      <td>11.120143</td>\n",
       "    </tr>\n",
       "    <tr>\n",
       "      <th>4</th>\n",
       "      <td>4</td>\n",
       "      <td>11.145714</td>\n",
       "    </tr>\n",
       "  </tbody>\n",
       "</table>\n",
       "</div>"
      ],
      "text/plain": [
       "  dayofweek  avg_fare_amount\n",
       "0         0        11.107197\n",
       "1         1        10.905263\n",
       "2         2        10.877470\n",
       "3         3        11.120143\n",
       "4         4        11.145714"
      ]
     },
     "execution_count": 27,
     "metadata": {},
     "output_type": "execute_result"
    }
   ],
   "source": [
    "avgfare = \"\"\"\n",
    "SELECT\n",
    "  strftime('%w',pickup_datetime) AS dayofweek,\n",
    "  AVG(fare_amount) avg_fare_amount\n",
    "FROM\n",
    "  df1\n",
    "GROUP BY\n",
    "  1\n",
    "ORDER BY\n",
    "  1;\n",
    "\n",
    "\"\"\"\n",
    "day_and_avg_fare = mysql(avgfare)\n",
    "day_and_avg_fare.head()"
   ]
  },
  {
   "cell_type": "code",
   "execution_count": 187,
   "id": "5b6c91f4",
   "metadata": {},
   "outputs": [
    {
     "data": {
      "text/plain": [
       "[Text(0, 0, 'Sun'),\n",
       " Text(1, 0, 'Mon'),\n",
       " Text(2, 0, 'Tues'),\n",
       " Text(3, 0, 'wed'),\n",
       " Text(4, 0, 'Thur'),\n",
       " Text(5, 0, 'Fri'),\n",
       " Text(6, 0, 'sat')]"
      ]
     },
     "execution_count": 187,
     "metadata": {},
     "output_type": "execute_result"
    },
    {
     "data": {
      "image/png": "[encoded data removed]",
      "text/plain": [
       "<Figure size 864x576 with 1 Axes>"
      ]
     },
     "metadata": {
      "needs_background": "light"
     },
     "output_type": "display_data"
    }
   ],
   "source": [
    "#plot average fare amount\n",
    "g_avgfare = sns.barplot(x=\"dayofweek\", y=\"avg_fare_amount\", data=day_and_avg_fare,palette='rainbow',)\n",
    "g_avgfare.set_xticklabels(['Sun','Mon','Tues','wed','Thur','Fri','sat'])"
   ]
  },
  {
   "cell_type": "markdown",
   "id": "23b21dcd",
   "metadata": {},
   "source": [
    "## Hourly Analysis"
   ]
  },
  {
   "cell_type": "code",
   "execution_count": 185,
   "id": "9d440bb0",
   "metadata": {},
   "outputs": [
    {
     "data": {
      "text/html": [
       "<div>\n",
       "<style scoped>\n",
       "    .dataframe tbody tr th:only-of-type {\n",
       "        vertical-align: middle;\n",
       "    }\n",
       "\n",
       "    .dataframe tbody tr th {\n",
       "        vertical-align: top;\n",
       "    }\n",
       "\n",
       "    .dataframe thead th {\n",
       "        text-align: right;\n",
       "    }\n",
       "</style>\n",
       "<table border=\"1\" class=\"dataframe\">\n",
       "  <thead>\n",
       "    <tr style=\"text-align: right;\">\n",
       "      <th></th>\n",
       "      <th>hourofday</th>\n",
       "      <th>nooftrips</th>\n",
       "    </tr>\n",
       "  </thead>\n",
       "  <tbody>\n",
       "    <tr>\n",
       "      <th>0</th>\n",
       "      <td>00</td>\n",
       "      <td>1170</td>\n",
       "    </tr>\n",
       "    <tr>\n",
       "      <th>1</th>\n",
       "      <td>01</td>\n",
       "      <td>774</td>\n",
       "    </tr>\n",
       "    <tr>\n",
       "      <th>2</th>\n",
       "      <td>02</td>\n",
       "      <td>770</td>\n",
       "    </tr>\n",
       "    <tr>\n",
       "      <th>3</th>\n",
       "      <td>03</td>\n",
       "      <td>362</td>\n",
       "    </tr>\n",
       "    <tr>\n",
       "      <th>4</th>\n",
       "      <td>04</td>\n",
       "      <td>271</td>\n",
       "    </tr>\n",
       "  </tbody>\n",
       "</table>\n",
       "</div>"
      ],
      "text/plain": [
       "  hourofday  nooftrips\n",
       "0        00       1170\n",
       "1        01        774\n",
       "2        02        770\n",
       "3        03        362\n",
       "4        04        271"
      ]
     },
     "execution_count": 185,
     "metadata": {},
     "output_type": "execute_result"
    }
   ],
   "source": [
    "hour_avgfare = \"\"\"\n",
    "SELECT\n",
    "  strftime('%H',pickup_datetime) AS hourofday,\n",
    "  COUNT(*) nooftrips\n",
    "FROM\n",
    "  df1\n",
    "GROUP BY\n",
    "  1\n",
    "ORDER BY\n",
    "  1;\n",
    "\n",
    "\"\"\"\n",
    "hour_day_and_avg_fare = mysql(hour_avgfare)\n",
    "hour_day_and_avg_fare.head()"
   ]
  },
  {
   "cell_type": "code",
   "execution_count": 186,
   "id": "1c9a9652",
   "metadata": {},
   "outputs": [
    {
     "data": {
      "image/png": "[encoded data removed]",
      "text/plain": [
       "<Figure size 864x576 with 1 Axes>"
      ]
     },
     "metadata": {
      "needs_background": "light"
     },
     "output_type": "display_data"
    }
   ],
   "source": [
    "g_hour_avgfare = sns.barplot(x=\"hourofday\", y=\"nooftrips\", data=hour_day_and_avg_fare,palette='rainbow',)"
   ]
  },
  {
   "cell_type": "markdown",
   "id": "2366c629",
   "metadata": {},
   "source": [
    "## Trip Distance Vs Fare Amount"
   ]
  },
  {
   "cell_type": "code",
   "execution_count": 188,
   "id": "aa1db2ad",
   "metadata": {},
   "outputs": [
    {
     "data": {
      "text/html": [
       "<div>\n",
       "<style scoped>\n",
       "    .dataframe tbody tr th:only-of-type {\n",
       "        vertical-align: middle;\n",
       "    }\n",
       "\n",
       "    .dataframe tbody tr th {\n",
       "        vertical-align: top;\n",
       "    }\n",
       "\n",
       "    .dataframe thead th {\n",
       "        text-align: right;\n",
       "    }\n",
       "</style>\n",
       "<table border=\"1\" class=\"dataframe\">\n",
       "  <thead>\n",
       "    <tr style=\"text-align: right;\">\n",
       "      <th></th>\n",
       "      <th>trip_distance</th>\n",
       "      <th>fare_amount</th>\n",
       "    </tr>\n",
       "  </thead>\n",
       "  <tbody>\n",
       "    <tr>\n",
       "      <th>0</th>\n",
       "      <td>0.42</td>\n",
       "      <td>3.5</td>\n",
       "    </tr>\n",
       "    <tr>\n",
       "      <th>1</th>\n",
       "      <td>0.50</td>\n",
       "      <td>3.5</td>\n",
       "    </tr>\n",
       "    <tr>\n",
       "      <th>2</th>\n",
       "      <td>1.00</td>\n",
       "      <td>4.5</td>\n",
       "    </tr>\n",
       "    <tr>\n",
       "      <th>3</th>\n",
       "      <td>0.67</td>\n",
       "      <td>4.5</td>\n",
       "    </tr>\n",
       "    <tr>\n",
       "      <th>4</th>\n",
       "      <td>0.96</td>\n",
       "      <td>4.5</td>\n",
       "    </tr>\n",
       "  </tbody>\n",
       "</table>\n",
       "</div>"
      ],
      "text/plain": [
       "   trip_distance  fare_amount\n",
       "0           0.42          3.5\n",
       "1           0.50          3.5\n",
       "2           1.00          4.5\n",
       "3           0.67          4.5\n",
       "4           0.96          4.5"
      ]
     },
     "execution_count": 188,
     "metadata": {},
     "output_type": "execute_result"
    }
   ],
   "source": [
    "trip_dist_fare = \"\"\"\n",
    "SELECT\n",
    "  trip_distance,\n",
    "  fare_amount\n",
    "FROM\n",
    "  df1\n",
    "WHERE\n",
    " fare_amount > 2.5;\n",
    "\n",
    "\"\"\"\n",
    "box_trip_dist_fare = mysql(trip_dist_fare)\n",
    "box_trip_dist_fare.head()"
   ]
  },
  {
   "cell_type": "code",
   "execution_count": 189,
   "id": "9727320c",
   "metadata": {},
   "outputs": [
    {
     "data": {
      "text/plain": [
       "<AxesSubplot:xlabel='trip_distance', ylabel='fare_amount'>"
      ]
     },
     "execution_count": 189,
     "metadata": {},
     "output_type": "execute_result"
    },
    {
     "data": {
      "image/png": "[encoded data removed]",
      "text/plain": [
       "<Figure size 864x576 with 1 Axes>"
      ]
     },
     "metadata": {
      "needs_background": "light"
     },
     "output_type": "display_data"
    }
   ],
   "source": [
    "# Boxplot to avoid showing outliers\n",
    "sns.boxplot(x=\"trip_distance\", y=\"fare_amount\",data=box_trip_dist_fare)"
   ]
  },
  {
   "cell_type": "code",
   "execution_count": 190,
   "id": "03bc9bc0",
   "metadata": {},
   "outputs": [
    {
     "data": {
      "text/plain": [
       "<AxesSubplot:xlabel='trip_distance', ylabel='fare_amount'>"
      ]
     },
     "execution_count": 190,
     "metadata": {},
     "output_type": "execute_result"
    },
    {
     "data": {
      "image/png": "[encoded data removed]",
      "text/plain": [
       "<Figure size 864x576 with 1 Axes>"
      ]
     },
     "metadata": {
      "needs_background": "light"
     },
     "output_type": "display_data"
    }
   ],
   "source": [
    "#scatterplot showing Outliers\n",
    "sns.scatterplot(x=\"trip_distance\", y=\"fare_amount\",data=box_trip_dist_fare)"
   ]
  },
  {
   "cell_type": "markdown",
   "id": "b486f4fb",
   "metadata": {},
   "source": [
    "# Find Outliers and Remove using  IQR(Q3-Q1) to improve performance"
   ]
  },
  {
   "cell_type": "code",
   "execution_count": 47,
   "id": "1c25a885",
   "metadata": {},
   "outputs": [],
   "source": [
    "import numpy as np\n",
    "import pandas as pd\n",
    "import matplotlib.pyplot as plt"
   ]
  },
  {
   "cell_type": "code",
   "execution_count": 48,
   "id": "3e5c70f7",
   "metadata": {},
   "outputs": [],
   "source": [
    "def outlier_treatment(datacolumn):\n",
    "    sorted(datacolumn)\n",
    "    Q1,Q3 = np.percentile(datacolumn , [25,75])\n",
    "    IQR = Q3-Q1\n",
    "    lower_range = Q1-(1.5 * IQR)\n",
    "    upper_range = Q3+(1.5 * IQR)\n",
    "    return lower_range,upper_range"
   ]
  },
  {
   "cell_type": "code",
   "execution_count": 51,
   "id": "251c5325",
   "metadata": {},
   "outputs": [
    {
     "name": "stdout",
     "output_type": "stream",
     "text": [
      "-3.75\n",
      "22.25\n"
     ]
    }
   ],
   "source": [
    "lowerbound,upperbound = outlier_treatment(df1.fare_amount)\n",
    "print(lowerbound)\n",
    "print(upperbound)"
   ]
  },
  {
   "cell_type": "markdown",
   "id": "3b4ccb13",
   "metadata": {},
   "source": [
    "### Displaying the outlier values"
   ]
  },
  {
   "cell_type": "code",
   "execution_count": 53,
   "id": "c1385afa",
   "metadata": {},
   "outputs": [
    {
     "data": {
      "text/html": [
       "<div>\n",
       "<style scoped>\n",
       "    .dataframe tbody tr th:only-of-type {\n",
       "        vertical-align: middle;\n",
       "    }\n",
       "\n",
       "    .dataframe tbody tr th {\n",
       "        vertical-align: top;\n",
       "    }\n",
       "\n",
       "    .dataframe thead th {\n",
       "        text-align: right;\n",
       "    }\n",
       "</style>\n",
       "<table border=\"1\" class=\"dataframe\">\n",
       "  <thead>\n",
       "    <tr style=\"text-align: right;\">\n",
       "      <th></th>\n",
       "      <th>vendor_id</th>\n",
       "      <th>pickup_datetime</th>\n",
       "      <th>dropoff_datetime</th>\n",
       "      <th>pickup_longitude</th>\n",
       "      <th>pickup_latitude</th>\n",
       "      <th>dropoff_longitude</th>\n",
       "      <th>dropoff_latitude</th>\n",
       "      <th>rate_code</th>\n",
       "      <th>passenger_count</th>\n",
       "      <th>trip_distance</th>\n",
       "      <th>payment_type</th>\n",
       "      <th>fare_amount</th>\n",
       "      <th>extra</th>\n",
       "      <th>mta_tax</th>\n",
       "      <th>imp_surcharge</th>\n",
       "      <th>tip_amount</th>\n",
       "      <th>tolls_amount</th>\n",
       "      <th>total_amount</th>\n",
       "      <th>store_and_fwd_flag</th>\n",
       "    </tr>\n",
       "  </thead>\n",
       "  <tbody>\n",
       "    <tr>\n",
       "      <th>90</th>\n",
       "      <td>CMT</td>\n",
       "      <td>2014-02-20T21:10:20Z</td>\n",
       "      <td>2014-02-20T21:41:13Z</td>\n",
       "      <td>-73.989235</td>\n",
       "      <td>40.754169</td>\n",
       "      <td>-73.849359</td>\n",
       "      <td>40.728332</td>\n",
       "      <td>1.0</td>\n",
       "      <td>1</td>\n",
       "      <td>8.70</td>\n",
       "      <td>CRD</td>\n",
       "      <td>27.0</td>\n",
       "      <td>0.5</td>\n",
       "      <td>0.5</td>\n",
       "      <td>NaN</td>\n",
       "      <td>6.66</td>\n",
       "      <td>5.33</td>\n",
       "      <td>39.99</td>\n",
       "      <td>N</td>\n",
       "    </tr>\n",
       "    <tr>\n",
       "      <th>91</th>\n",
       "      <td>CMT</td>\n",
       "      <td>2013-06-18T14:38:32Z</td>\n",
       "      <td>2013-06-18T15:25:01Z</td>\n",
       "      <td>-73.983354</td>\n",
       "      <td>40.738925</td>\n",
       "      <td>-74.008761</td>\n",
       "      <td>40.711008</td>\n",
       "      <td>1.0</td>\n",
       "      <td>1</td>\n",
       "      <td>4.20</td>\n",
       "      <td>CRD</td>\n",
       "      <td>29.0</td>\n",
       "      <td>0.0</td>\n",
       "      <td>0.5</td>\n",
       "      <td>NaN</td>\n",
       "      <td>6.00</td>\n",
       "      <td>0.00</td>\n",
       "      <td>35.50</td>\n",
       "      <td>N</td>\n",
       "    </tr>\n",
       "    <tr>\n",
       "      <th>92</th>\n",
       "      <td>VTS</td>\n",
       "      <td>2013-05-14T14:27:00Z</td>\n",
       "      <td>2013-05-14T15:02:00Z</td>\n",
       "      <td>-73.944442</td>\n",
       "      <td>40.824057</td>\n",
       "      <td>-73.797577</td>\n",
       "      <td>40.644730</td>\n",
       "      <td>2.0</td>\n",
       "      <td>1</td>\n",
       "      <td>18.44</td>\n",
       "      <td>CSH</td>\n",
       "      <td>52.0</td>\n",
       "      <td>0.0</td>\n",
       "      <td>0.5</td>\n",
       "      <td>NaN</td>\n",
       "      <td>0.00</td>\n",
       "      <td>5.33</td>\n",
       "      <td>57.83</td>\n",
       "      <td>NaN</td>\n",
       "    </tr>\n",
       "    <tr>\n",
       "      <th>93</th>\n",
       "      <td>CMT</td>\n",
       "      <td>2014-09-28T21:58:49Z</td>\n",
       "      <td>2014-09-28T22:43:31Z</td>\n",
       "      <td>-73.776808</td>\n",
       "      <td>40.645093</td>\n",
       "      <td>-73.970839</td>\n",
       "      <td>40.785749</td>\n",
       "      <td>2.0</td>\n",
       "      <td>1</td>\n",
       "      <td>20.50</td>\n",
       "      <td>CRD</td>\n",
       "      <td>52.0</td>\n",
       "      <td>0.0</td>\n",
       "      <td>0.5</td>\n",
       "      <td>NaN</td>\n",
       "      <td>14.45</td>\n",
       "      <td>5.33</td>\n",
       "      <td>72.28</td>\n",
       "      <td>N</td>\n",
       "    </tr>\n",
       "    <tr>\n",
       "      <th>94</th>\n",
       "      <td>CMT</td>\n",
       "      <td>2014-04-05T15:35:50Z</td>\n",
       "      <td>2014-04-05T16:45:24Z</td>\n",
       "      <td>-73.783021</td>\n",
       "      <td>40.644399</td>\n",
       "      <td>-74.009342</td>\n",
       "      <td>40.715497</td>\n",
       "      <td>2.0</td>\n",
       "      <td>1</td>\n",
       "      <td>21.00</td>\n",
       "      <td>CRD</td>\n",
       "      <td>52.0</td>\n",
       "      <td>0.0</td>\n",
       "      <td>0.5</td>\n",
       "      <td>NaN</td>\n",
       "      <td>14.45</td>\n",
       "      <td>5.33</td>\n",
       "      <td>72.28</td>\n",
       "      <td>N</td>\n",
       "    </tr>\n",
       "    <tr>\n",
       "      <th>...</th>\n",
       "      <td>...</td>\n",
       "      <td>...</td>\n",
       "      <td>...</td>\n",
       "      <td>...</td>\n",
       "      <td>...</td>\n",
       "      <td>...</td>\n",
       "      <td>...</td>\n",
       "      <td>...</td>\n",
       "      <td>...</td>\n",
       "      <td>...</td>\n",
       "      <td>...</td>\n",
       "      <td>...</td>\n",
       "      <td>...</td>\n",
       "      <td>...</td>\n",
       "      <td>...</td>\n",
       "      <td>...</td>\n",
       "      <td>...</td>\n",
       "      <td>...</td>\n",
       "      <td>...</td>\n",
       "    </tr>\n",
       "    <tr>\n",
       "      <th>27672</th>\n",
       "      <td>VTS</td>\n",
       "      <td>2013-05-14T08:59:00Z</td>\n",
       "      <td>2013-05-14T09:33:00Z</td>\n",
       "      <td>-74.007040</td>\n",
       "      <td>40.715857</td>\n",
       "      <td>-73.963192</td>\n",
       "      <td>40.775192</td>\n",
       "      <td>1.0</td>\n",
       "      <td>1</td>\n",
       "      <td>7.41</td>\n",
       "      <td>CRD</td>\n",
       "      <td>27.5</td>\n",
       "      <td>0.0</td>\n",
       "      <td>0.5</td>\n",
       "      <td>NaN</td>\n",
       "      <td>2.00</td>\n",
       "      <td>0.00</td>\n",
       "      <td>30.00</td>\n",
       "      <td>NaN</td>\n",
       "    </tr>\n",
       "    <tr>\n",
       "      <th>27673</th>\n",
       "      <td>CMT</td>\n",
       "      <td>2014-04-14T16:59:09Z</td>\n",
       "      <td>2014-04-14T17:38:04Z</td>\n",
       "      <td>-73.984272</td>\n",
       "      <td>40.759930</td>\n",
       "      <td>-73.981265</td>\n",
       "      <td>40.741573</td>\n",
       "      <td>1.0</td>\n",
       "      <td>4</td>\n",
       "      <td>6.50</td>\n",
       "      <td>CSH</td>\n",
       "      <td>28.5</td>\n",
       "      <td>1.0</td>\n",
       "      <td>0.5</td>\n",
       "      <td>NaN</td>\n",
       "      <td>0.00</td>\n",
       "      <td>0.00</td>\n",
       "      <td>30.00</td>\n",
       "      <td>N</td>\n",
       "    </tr>\n",
       "    <tr>\n",
       "      <th>27674</th>\n",
       "      <td>CMT</td>\n",
       "      <td>2013-05-20T17:50:01Z</td>\n",
       "      <td>2013-05-20T18:30:57Z</td>\n",
       "      <td>-74.002414</td>\n",
       "      <td>40.744926</td>\n",
       "      <td>-73.962984</td>\n",
       "      <td>40.661884</td>\n",
       "      <td>1.0</td>\n",
       "      <td>1</td>\n",
       "      <td>8.70</td>\n",
       "      <td>CRD</td>\n",
       "      <td>28.5</td>\n",
       "      <td>1.0</td>\n",
       "      <td>0.5</td>\n",
       "      <td>NaN</td>\n",
       "      <td>9.00</td>\n",
       "      <td>0.00</td>\n",
       "      <td>39.00</td>\n",
       "      <td>N</td>\n",
       "    </tr>\n",
       "    <tr>\n",
       "      <th>27675</th>\n",
       "      <td>VTS</td>\n",
       "      <td>2012-05-07T10:51:00Z</td>\n",
       "      <td>2012-05-07T11:47:00Z</td>\n",
       "      <td>-73.985412</td>\n",
       "      <td>40.768180</td>\n",
       "      <td>-74.006855</td>\n",
       "      <td>40.711452</td>\n",
       "      <td>1.0</td>\n",
       "      <td>2</td>\n",
       "      <td>7.16</td>\n",
       "      <td>CSH</td>\n",
       "      <td>30.5</td>\n",
       "      <td>0.0</td>\n",
       "      <td>0.5</td>\n",
       "      <td>NaN</td>\n",
       "      <td>0.00</td>\n",
       "      <td>0.00</td>\n",
       "      <td>31.00</td>\n",
       "      <td>NaN</td>\n",
       "    </tr>\n",
       "    <tr>\n",
       "      <th>27676</th>\n",
       "      <td>VTS</td>\n",
       "      <td>2009-07-09T12:03:00Z</td>\n",
       "      <td>2009-07-09T12:35:00Z</td>\n",
       "      <td>-73.849998</td>\n",
       "      <td>40.748837</td>\n",
       "      <td>-73.849998</td>\n",
       "      <td>40.748837</td>\n",
       "      <td>NaN</td>\n",
       "      <td>5</td>\n",
       "      <td>17.89</td>\n",
       "      <td>CSH</td>\n",
       "      <td>45.0</td>\n",
       "      <td>0.0</td>\n",
       "      <td>NaN</td>\n",
       "      <td>NaN</td>\n",
       "      <td>0.00</td>\n",
       "      <td>5.00</td>\n",
       "      <td>50.00</td>\n",
       "      <td>NaN</td>\n",
       "    </tr>\n",
       "  </tbody>\n",
       "</table>\n",
       "<p>2247 rows × 19 columns</p>\n",
       "</div>"
      ],
      "text/plain": [
       "      vendor_id       pickup_datetime      dropoff_datetime  pickup_longitude  \\\n",
       "90          CMT  2014-02-20T21:10:20Z  2014-02-20T21:41:13Z        -73.989235   \n",
       "91          CMT  2013-06-18T14:38:32Z  2013-06-18T15:25:01Z        -73.983354   \n",
       "92          VTS  2013-05-14T14:27:00Z  2013-05-14T15:02:00Z        -73.944442   \n",
       "93          CMT  2014-09-28T21:58:49Z  2014-09-28T22:43:31Z        -73.776808   \n",
       "94          CMT  2014-04-05T15:35:50Z  2014-04-05T16:45:24Z        -73.783021   \n",
       "...         ...                   ...                   ...               ...   \n",
       "27672       VTS  2013-05-14T08:59:00Z  2013-05-14T09:33:00Z        -74.007040   \n",
       "27673       CMT  2014-04-14T16:59:09Z  2014-04-14T17:38:04Z        -73.984272   \n",
       "27674       CMT  2013-05-20T17:50:01Z  2013-05-20T18:30:57Z        -74.002414   \n",
       "27675       VTS  2012-05-07T10:51:00Z  2012-05-07T11:47:00Z        -73.985412   \n",
       "27676       VTS  2009-07-09T12:03:00Z  2009-07-09T12:35:00Z        -73.849998   \n",
       "\n",
       "       pickup_latitude  dropoff_longitude  dropoff_latitude  rate_code  \\\n",
       "90           40.754169         -73.849359         40.728332        1.0   \n",
       "91           40.738925         -74.008761         40.711008        1.0   \n",
       "92           40.824057         -73.797577         40.644730        2.0   \n",
       "93           40.645093         -73.970839         40.785749        2.0   \n",
       "94           40.644399         -74.009342         40.715497        2.0   \n",
       "...                ...                ...               ...        ...   \n",
       "27672        40.715857         -73.963192         40.775192        1.0   \n",
       "27673        40.759930         -73.981265         40.741573        1.0   \n",
       "27674        40.744926         -73.962984         40.661884        1.0   \n",
       "27675        40.768180         -74.006855         40.711452        1.0   \n",
       "27676        40.748837         -73.849998         40.748837        NaN   \n",
       "\n",
       "       passenger_count  trip_distance payment_type  fare_amount  extra  \\\n",
       "90                   1           8.70          CRD         27.0    0.5   \n",
       "91                   1           4.20          CRD         29.0    0.0   \n",
       "92                   1          18.44          CSH         52.0    0.0   \n",
       "93                   1          20.50          CRD         52.0    0.0   \n",
       "94                   1          21.00          CRD         52.0    0.0   \n",
       "...                ...            ...          ...          ...    ...   \n",
       "27672                1           7.41          CRD         27.5    0.0   \n",
       "27673                4           6.50          CSH         28.5    1.0   \n",
       "27674                1           8.70          CRD         28.5    1.0   \n",
       "27675                2           7.16          CSH         30.5    0.0   \n",
       "27676                5          17.89          CSH         45.0    0.0   \n",
       "\n",
       "       mta_tax  imp_surcharge  tip_amount  tolls_amount  total_amount  \\\n",
       "90         0.5            NaN        6.66          5.33         39.99   \n",
       "91         0.5            NaN        6.00          0.00         35.50   \n",
       "92         0.5            NaN        0.00          5.33         57.83   \n",
       "93         0.5            NaN       14.45          5.33         72.28   \n",
       "94         0.5            NaN       14.45          5.33         72.28   \n",
       "...        ...            ...         ...           ...           ...   \n",
       "27672      0.5            NaN        2.00          0.00         30.00   \n",
       "27673      0.5            NaN        0.00          0.00         30.00   \n",
       "27674      0.5            NaN        9.00          0.00         39.00   \n",
       "27675      0.5            NaN        0.00          0.00         31.00   \n",
       "27676      NaN            NaN        0.00          5.00         50.00   \n",
       "\n",
       "      store_and_fwd_flag  \n",
       "90                     N  \n",
       "91                     N  \n",
       "92                   NaN  \n",
       "93                     N  \n",
       "94                     N  \n",
       "...                  ...  \n",
       "27672                NaN  \n",
       "27673                  N  \n",
       "27674                  N  \n",
       "27675                NaN  \n",
       "27676                NaN  \n",
       "\n",
       "[2247 rows x 19 columns]"
      ]
     },
     "execution_count": 53,
     "metadata": {},
     "output_type": "execute_result"
    }
   ],
   "source": [
    "#columns which have outlier values \n",
    "df1[(df1.fare_amount < lowerbound) | (df1.fare_amount > upperbound)]"
   ]
  },
  {
   "cell_type": "code",
   "execution_count": 191,
   "id": "dfa6b5b0",
   "metadata": {},
   "outputs": [],
   "source": [
    "# Drop the outliers \n",
    "df1.drop(df1[ (df1.fare_amount > upperbound) | (df1.fare_amount < lowerbound) ].index , inplace=True)"
   ]
  },
  {
   "cell_type": "markdown",
   "id": "433939f7",
   "metadata": {},
   "source": [
    "## Scatter plot Trip Distance vs Fare Amount after removing Outliers"
   ]
  },
  {
   "cell_type": "code",
   "execution_count": 193,
   "id": "8747fbe1",
   "metadata": {},
   "outputs": [
    {
     "data": {
      "text/html": [
       "<div>\n",
       "<style scoped>\n",
       "    .dataframe tbody tr th:only-of-type {\n",
       "        vertical-align: middle;\n",
       "    }\n",
       "\n",
       "    .dataframe tbody tr th {\n",
       "        vertical-align: top;\n",
       "    }\n",
       "\n",
       "    .dataframe thead th {\n",
       "        text-align: right;\n",
       "    }\n",
       "</style>\n",
       "<table border=\"1\" class=\"dataframe\">\n",
       "  <thead>\n",
       "    <tr style=\"text-align: right;\">\n",
       "      <th></th>\n",
       "      <th>trip_distance</th>\n",
       "      <th>fare_amount</th>\n",
       "    </tr>\n",
       "  </thead>\n",
       "  <tbody>\n",
       "    <tr>\n",
       "      <th>0</th>\n",
       "      <td>0.42</td>\n",
       "      <td>3.5</td>\n",
       "    </tr>\n",
       "    <tr>\n",
       "      <th>1</th>\n",
       "      <td>0.50</td>\n",
       "      <td>3.5</td>\n",
       "    </tr>\n",
       "    <tr>\n",
       "      <th>2</th>\n",
       "      <td>1.00</td>\n",
       "      <td>4.5</td>\n",
       "    </tr>\n",
       "    <tr>\n",
       "      <th>3</th>\n",
       "      <td>0.67</td>\n",
       "      <td>4.5</td>\n",
       "    </tr>\n",
       "    <tr>\n",
       "      <th>4</th>\n",
       "      <td>0.96</td>\n",
       "      <td>4.5</td>\n",
       "    </tr>\n",
       "  </tbody>\n",
       "</table>\n",
       "</div>"
      ],
      "text/plain": [
       "   trip_distance  fare_amount\n",
       "0           0.42          3.5\n",
       "1           0.50          3.5\n",
       "2           1.00          4.5\n",
       "3           0.67          4.5\n",
       "4           0.96          4.5"
      ]
     },
     "execution_count": 193,
     "metadata": {},
     "output_type": "execute_result"
    }
   ],
   "source": [
    "trip_dist_fare = \"\"\"\n",
    "SELECT\n",
    "  trip_distance,\n",
    "  fare_amount\n",
    "FROM\n",
    "  df1\n",
    "WHERE\n",
    "    trip_distance > 0\n",
    "    AND pickup_longitude < -73\n",
    "    AND dropoff_longitude > -75\n",
    "    AND dropoff_longitude < -73\n",
    "    AND pickup_latitude > 40\n",
    "    AND pickup_latitude < 42\n",
    "    AND dropoff_latitude > 40\n",
    "    AND dropoff_latitude < 42;\n",
    "\n",
    "\"\"\"\n",
    "box_trip_dist_fare = mysql(trip_dist_fare)\n",
    "box_trip_dist_fare.head()"
   ]
  },
  {
   "cell_type": "code",
   "execution_count": 194,
   "id": "e938dfb1",
   "metadata": {},
   "outputs": [
    {
     "data": {
      "text/plain": [
       "<AxesSubplot:xlabel='trip_distance', ylabel='fare_amount'>"
      ]
     },
     "execution_count": 194,
     "metadata": {},
     "output_type": "execute_result"
    },
    {
     "data": {
      "image/png": "[encoded data removed]",
      "text/plain": [
       "<Figure size 864x576 with 1 Axes>"
      ]
     },
     "metadata": {
      "needs_background": "light"
     },
     "output_type": "display_data"
    }
   ],
   "source": [
    "# scatter plot after removing outliers\n",
    "sns.scatterplot(x=\"trip_distance\", y=\"fare_amount\",data=box_trip_dist_fare)"
   ]
  },
  {
   "cell_type": "markdown",
   "id": "bcf3f79b",
   "metadata": {},
   "source": [
    "# Random forest algorithm"
   ]
  },
  {
   "cell_type": "code",
   "execution_count": 159,
   "id": "3ab3114f",
   "metadata": {},
   "outputs": [],
   "source": [
    "import numpy as np\n",
    "import pandas as pd\n",
    "from sklearn.datasets import load_boston\n",
    "from sklearn.model_selection import train_test_split\n",
    "from sklearn.ensemble import RandomForestRegressor\n",
    "from sklearn.inspection import permutation_importance\n",
    "from matplotlib import pyplot as plt\n",
    "import sklearn\n",
    "\n",
    "plt.rcParams.update({'figure.figsize': (12.0, 8.0)})\n",
    "plt.rcParams.update({'font.size': 14})"
   ]
  },
  {
   "cell_type": "code",
   "execution_count": 146,
   "id": "46eafac5",
   "metadata": {},
   "outputs": [],
   "source": [
    "# train features\n",
    "features = \"\"\"\n",
    "SELECT\n",
    "  strftime('%H',pickup_datetime) AS hourofday,\n",
    "  strftime('%w',pickup_datetime) AS dayofweek,\n",
    "  pickup_longitude,\n",
    "  pickup_latitude,\n",
    "  dropoff_longitude,\n",
    "  trip_distance,\n",
    "  dropoff_latitude,\n",
    "  passenger_count\n",
    "FROM\n",
    "  df1;\n",
    "\n",
    "\"\"\"\n",
    "x = mysql(features)\n"
   ]
  },
  {
   "cell_type": "code",
   "execution_count": 198,
   "id": "270e7f79",
   "metadata": {},
   "outputs": [],
   "source": [
    "sum_column = df1[\"fare_amount\"] + df1[\"tolls_amount\"]\n",
    "df1[\"total_fare\"] = sum_column\n",
    "y = df1.total_fare\n",
    "X_train, X_test, y_train, y_test = train_test_split(x, y, test_size=0.25, random_state=12)\n"
   ]
  },
  {
   "cell_type": "markdown",
   "id": "65ce6847",
   "metadata": {},
   "source": [
    "### Train the model"
   ]
  },
  {
   "cell_type": "code",
   "execution_count": 199,
   "id": "069f7856",
   "metadata": {},
   "outputs": [
    {
     "data": {
      "text/plain": [
       "RandomForestRegressor()"
      ]
     },
     "execution_count": 199,
     "metadata": {},
     "output_type": "execute_result"
    }
   ],
   "source": [
    "rf = RandomForestRegressor(n_estimators=100)\n",
    "rf.fit(X_train, y_train)"
   ]
  },
  {
   "cell_type": "code",
   "execution_count": 200,
   "id": "89e93c5e",
   "metadata": {},
   "outputs": [
    {
     "data": {
      "text/plain": [
       "array([0.03298135, 0.01417701, 0.02957501, 0.02893447, 0.03010986,\n",
       "       0.82389522, 0.0343475 , 0.00597957])"
      ]
     },
     "execution_count": 200,
     "metadata": {},
     "output_type": "execute_result"
    }
   ],
   "source": [
    "rf.feature_importances_"
   ]
  },
  {
   "cell_type": "markdown",
   "id": "902ce8f9",
   "metadata": {},
   "source": [
    "### Feature Importance plot to determine which column is important to consider"
   ]
  },
  {
   "cell_type": "code",
   "execution_count": 201,
   "id": "61a92815",
   "metadata": {},
   "outputs": [
    {
     "data": {
      "text/plain": [
       "<BarContainer object of 8 artists>"
      ]
     },
     "execution_count": 201,
     "metadata": {},
     "output_type": "execute_result"
    },
    {
     "data": {
      "image/png": "[encoded data removed]",
      "text/plain": [
       "<Figure size 864x576 with 1 Axes>"
      ]
     },
     "metadata": {
      "needs_background": "light"
     },
     "output_type": "display_data"
    }
   ],
   "source": [
    "from numpy import array\n",
    "feature_names = array(['hourofday','dayofweek','pickup_longitude','pickup_latitude','dropoff_longitude','trip_distance','dropoff_latitude','passenger_count'])\n",
    "plt.barh(feature_names, rf.feature_importances_)"
   ]
  },
  {
   "cell_type": "markdown",
   "id": "0acf0400",
   "metadata": {},
   "source": [
    "### Find Root Mean Square Error for Random Forest Algorithm"
   ]
  },
  {
   "cell_type": "code",
   "execution_count": 202,
   "id": "f87074c0",
   "metadata": {},
   "outputs": [
    {
     "name": "stdout",
     "output_type": "stream",
     "text": [
      "1.6963530786634626\n"
     ]
    }
   ],
   "source": [
    "import math\n",
    "actual = y_test\n",
    "predicted = rf.predict(X_test)\n",
    "\n",
    "mse = sklearn.metrics.mean_squared_error(actual, predicted)\n",
    "\n",
    "rmse = math.sqrt(mse)\n",
    "\n",
    "print(rmse)\n"
   ]
  },
  {
   "cell_type": "markdown",
   "id": "da8f4a69",
   "metadata": {},
   "source": [
    "# Multiple Linear Regression Algorithm"
   ]
  },
  {
   "cell_type": "code",
   "execution_count": 203,
   "id": "fc36eb0e",
   "metadata": {},
   "outputs": [],
   "source": [
    "# train features\n",
    "features = \"\"\"\n",
    "SELECT\n",
    "  strftime('%H',pickup_datetime) AS hourofday,\n",
    "  strftime('%w',pickup_datetime) AS dayofweek,\n",
    "  pickup_longitude,\n",
    "  pickup_latitude,\n",
    "  dropoff_longitude,\n",
    "  trip_distance,\n",
    "  dropoff_latitude,\n",
    "  passenger_count \n",
    "FROM\n",
    "  df1;\n",
    "\n",
    "\"\"\"\n",
    "x1 = mysql(features)"
   ]
  },
  {
   "cell_type": "code",
   "execution_count": 204,
   "id": "dd466225",
   "metadata": {},
   "outputs": [
    {
     "name": "stdout",
     "output_type": "stream",
     "text": [
      "4.168101295209502\n",
      "[ 1.33441272e-02  5.47102067e-02  7.26305750e-04  3.86861931e-03\n",
      " -6.51417601e-04  2.14194395e+00 -3.24377008e-03  1.78972882e-02]\n"
     ]
    }
   ],
   "source": [
    "# multiple linear regression\n",
    "from sklearn.linear_model import LinearRegression\n",
    "y1 = df1.total_fare\n",
    "X_train_1, X_test_1, y_train_1, y_test_1 = train_test_split(x1, y1, test_size=0.25, random_state=12)\n",
    "\n",
    "# instantiate and fit\n",
    "lm2 = LinearRegression()\n",
    "lm2.fit(x1, y1)\n",
    "\n",
    "# print the coefficients\n",
    "print(lm2.intercept_)\n",
    "print(lm2.coef_)"
   ]
  },
  {
   "cell_type": "code",
   "execution_count": 205,
   "id": "9470fad2",
   "metadata": {},
   "outputs": [
    {
     "name": "stdout",
     "output_type": "stream",
     "text": [
      "1.6963530786634626\n"
     ]
    }
   ],
   "source": [
    "actual1 = y_test_1\n",
    "predicted1 = rf.predict(X_test_1)\n",
    "\n",
    "mse1 = sklearn.metrics.mean_squared_error(actual1, predicted1)\n",
    "\n",
    "rmse1 = math.sqrt(mse1)\n",
    "\n",
    "print(rmse1)"
   ]
  },
  {
   "cell_type": "code",
   "execution_count": 206,
   "id": "0d6b3cd4",
   "metadata": {},
   "outputs": [
    {
     "data": {
      "text/plain": [
       "[('hourofday', 0.013344127229185444),\n",
       " ('dayofweek', 0.05471020670108412),\n",
       " ('pickup_longitude', 0.0007263057500609335),\n",
       " ('pickup_latitude', 0.0038686193119693013),\n",
       " ('dropoff_longitude', -0.0006514176006987595),\n",
       " ('trip_distance', 2.141943950418873),\n",
       " ('dropoff_latitude', -0.0032437700824927695),\n",
       " ('passenger_count', 0.017897288249641933)]"
      ]
     },
     "execution_count": 206,
     "metadata": {},
     "output_type": "execute_result"
    }
   ],
   "source": [
    "# pair the feature names with the coefficients\n",
    "feature_cols = ['hourofday','dayofweek','pickup_longitude','pickup_latitude','dropoff_longitude','trip_distance','dropoff_latitude','passenger_count']\n",
    "list(zip(feature_cols, lm2.coef_))\n"
   ]
  },
  {
   "cell_type": "code",
   "execution_count": 207,
   "id": "face4682",
   "metadata": {},
   "outputs": [],
   "source": [
    "data = \"\"\"\n",
    "SELECT\n",
    "  strftime('%H',pickup_datetime) AS hourofday,\n",
    "  strftime('%w',pickup_datetime) AS dayofweek,\n",
    "  pickup_longitude,\n",
    "  pickup_latitude,\n",
    "  dropoff_longitude,\n",
    "  trip_distance,\n",
    "  dropoff_latitude,\n",
    "  passenger_count,\n",
    "  total_fare \n",
    "FROM\n",
    "  df1;\n",
    "\n",
    "\"\"\"\n",
    "data1 = mysql(data)"
   ]
  },
  {
   "cell_type": "code",
   "execution_count": 208,
   "id": "8f6fe2ec",
   "metadata": {},
   "outputs": [
    {
     "data": {
      "text/plain": [
       "Intercept            3.787854\n",
       "hourofday[T.01]     -0.154424\n",
       "hourofday[T.02]     -0.366366\n",
       "hourofday[T.03]     -1.087776\n",
       "hourofday[T.04]     -0.450214\n",
       "hourofday[T.05]     -0.546290\n",
       "hourofday[T.06]     -0.655344\n",
       "hourofday[T.07]     -0.077984\n",
       "hourofday[T.08]      0.768527\n",
       "hourofday[T.09]      0.866786\n",
       "hourofday[T.10]      0.787375\n",
       "hourofday[T.11]      0.756850\n",
       "hourofday[T.12]      0.748673\n",
       "hourofday[T.13]      0.823937\n",
       "hourofday[T.14]      0.921360\n",
       "hourofday[T.15]      0.736779\n",
       "hourofday[T.16]      0.627254\n",
       "hourofday[T.17]      0.705401\n",
       "hourofday[T.18]      0.751298\n",
       "hourofday[T.19]      0.488424\n",
       "hourofday[T.20]      0.188089\n",
       "hourofday[T.21]      0.092684\n",
       "hourofday[T.22]     -0.004567\n",
       "hourofday[T.23]     -0.005796\n",
       "dayofweek[T.1]       0.056523\n",
       "dayofweek[T.2]       0.317168\n",
       "dayofweek[T.3]       0.409094\n",
       "dayofweek[T.4]       0.471253\n",
       "dayofweek[T.5]       0.411611\n",
       "dayofweek[T.6]       0.311743\n",
       "pickup_longitude     0.000463\n",
       "pickup_latitude      0.000142\n",
       "dropoff_longitude    0.000146\n",
       "trip_distance        2.184182\n",
       "dropoff_latitude    -0.000160\n",
       "passenger_count      0.024597\n",
       "dtype: float64"
      ]
     },
     "execution_count": 208,
     "metadata": {},
     "output_type": "execute_result"
    }
   ],
   "source": [
    "import statsmodels.formula.api as smf\n",
    "lm1 = smf.ols(formula='total_fare ~ hourofday+dayofweek+pickup_longitude+pickup_latitude+dropoff_longitude+trip_distance+dropoff_latitude+passenger_count', data=data1).fit()\n",
    "# print the coefficients\n",
    "lm1.params"
   ]
  },
  {
   "cell_type": "markdown",
   "id": "73f754fc",
   "metadata": {},
   "source": [
    "### Adjusted R-squared value is the actual value"
   ]
  },
  {
   "cell_type": "code",
   "execution_count": 209,
   "id": "900a8f2a",
   "metadata": {},
   "outputs": [
    {
     "data": {
      "text/html": [
       "<table class=\"simpletable\">\n",
       "<caption>OLS Regression Results</caption>\n",
       "<tr>\n",
       "  <th>Dep. Variable:</th>       <td>total_fare</td>    <th>  R-squared:         </th> <td>   0.687</td> \n",
       "</tr>\n",
       "<tr>\n",
       "  <th>Model:</th>                   <td>OLS</td>       <th>  Adj. R-squared:    </th> <td>   0.687</td> \n",
       "</tr>\n",
       "<tr>\n",
       "  <th>Method:</th>             <td>Least Squares</td>  <th>  F-statistic:       </th> <td>   1596.</td> \n",
       "</tr>\n",
       "<tr>\n",
       "  <th>Date:</th>             <td>Sun, 02 Jan 2022</td> <th>  Prob (F-statistic):</th>  <td>  0.00</td>  \n",
       "</tr>\n",
       "<tr>\n",
       "  <th>Time:</th>                 <td>17:03:43</td>     <th>  Log-Likelihood:    </th> <td> -57914.</td> \n",
       "</tr>\n",
       "<tr>\n",
       "  <th>No. Observations:</th>      <td> 25453</td>      <th>  AIC:               </th> <td>1.159e+05</td>\n",
       "</tr>\n",
       "<tr>\n",
       "  <th>Df Residuals:</th>          <td> 25417</td>      <th>  BIC:               </th> <td>1.162e+05</td>\n",
       "</tr>\n",
       "<tr>\n",
       "  <th>Df Model:</th>              <td>    35</td>      <th>                     </th>     <td> </td>    \n",
       "</tr>\n",
       "<tr>\n",
       "  <th>Covariance Type:</th>      <td>nonrobust</td>    <th>                     </th>     <td> </td>    \n",
       "</tr>\n",
       "</table>\n",
       "<table class=\"simpletable\">\n",
       "<tr>\n",
       "          <td></td>             <th>coef</th>     <th>std err</th>      <th>t</th>      <th>P>|t|</th>  <th>[0.025</th>    <th>0.975]</th>  \n",
       "</tr>\n",
       "<tr>\n",
       "  <th>Intercept</th>         <td>    3.7879</td> <td>    0.136</td> <td>   27.918</td> <td> 0.000</td> <td>    3.522</td> <td>    4.054</td>\n",
       "</tr>\n",
       "<tr>\n",
       "  <th>hourofday[T.01]</th>   <td>   -0.1544</td> <td>    0.114</td> <td>   -1.357</td> <td> 0.175</td> <td>   -0.378</td> <td>    0.069</td>\n",
       "</tr>\n",
       "<tr>\n",
       "  <th>hourofday[T.02]</th>   <td>   -0.3664</td> <td>    0.115</td> <td>   -3.193</td> <td> 0.001</td> <td>   -0.591</td> <td>   -0.141</td>\n",
       "</tr>\n",
       "<tr>\n",
       "  <th>hourofday[T.03]</th>   <td>   -1.0878</td> <td>    0.150</td> <td>   -7.276</td> <td> 0.000</td> <td>   -1.381</td> <td>   -0.795</td>\n",
       "</tr>\n",
       "<tr>\n",
       "  <th>hourofday[T.04]</th>   <td>   -0.4502</td> <td>    0.172</td> <td>   -2.618</td> <td> 0.009</td> <td>   -0.787</td> <td>   -0.113</td>\n",
       "</tr>\n",
       "<tr>\n",
       "  <th>hourofday[T.05]</th>   <td>   -0.5463</td> <td>    0.178</td> <td>   -3.067</td> <td> 0.002</td> <td>   -0.895</td> <td>   -0.197</td>\n",
       "</tr>\n",
       "<tr>\n",
       "  <th>hourofday[T.06]</th>   <td>   -0.6553</td> <td>    0.133</td> <td>   -4.938</td> <td> 0.000</td> <td>   -0.915</td> <td>   -0.395</td>\n",
       "</tr>\n",
       "<tr>\n",
       "  <th>hourofday[T.07]</th>   <td>   -0.0780</td> <td>    0.106</td> <td>   -0.737</td> <td> 0.461</td> <td>   -0.285</td> <td>    0.129</td>\n",
       "</tr>\n",
       "<tr>\n",
       "  <th>hourofday[T.08]</th>   <td>    0.7685</td> <td>    0.101</td> <td>    7.603</td> <td> 0.000</td> <td>    0.570</td> <td>    0.967</td>\n",
       "</tr>\n",
       "<tr>\n",
       "  <th>hourofday[T.09]</th>   <td>    0.8668</td> <td>    0.099</td> <td>    8.719</td> <td> 0.000</td> <td>    0.672</td> <td>    1.062</td>\n",
       "</tr>\n",
       "<tr>\n",
       "  <th>hourofday[T.10]</th>   <td>    0.7874</td> <td>    0.099</td> <td>    7.938</td> <td> 0.000</td> <td>    0.593</td> <td>    0.982</td>\n",
       "</tr>\n",
       "<tr>\n",
       "  <th>hourofday[T.11]</th>   <td>    0.7569</td> <td>    0.097</td> <td>    7.836</td> <td> 0.000</td> <td>    0.568</td> <td>    0.946</td>\n",
       "</tr>\n",
       "<tr>\n",
       "  <th>hourofday[T.12]</th>   <td>    0.7487</td> <td>    0.096</td> <td>    7.794</td> <td> 0.000</td> <td>    0.560</td> <td>    0.937</td>\n",
       "</tr>\n",
       "<tr>\n",
       "  <th>hourofday[T.13]</th>   <td>    0.8239</td> <td>    0.100</td> <td>    8.275</td> <td> 0.000</td> <td>    0.629</td> <td>    1.019</td>\n",
       "</tr>\n",
       "<tr>\n",
       "  <th>hourofday[T.14]</th>   <td>    0.9214</td> <td>    0.097</td> <td>    9.500</td> <td> 0.000</td> <td>    0.731</td> <td>    1.111</td>\n",
       "</tr>\n",
       "<tr>\n",
       "  <th>hourofday[T.15]</th>   <td>    0.7368</td> <td>    0.102</td> <td>    7.241</td> <td> 0.000</td> <td>    0.537</td> <td>    0.936</td>\n",
       "</tr>\n",
       "<tr>\n",
       "  <th>hourofday[T.16]</th>   <td>    0.6273</td> <td>    0.107</td> <td>    5.874</td> <td> 0.000</td> <td>    0.418</td> <td>    0.837</td>\n",
       "</tr>\n",
       "<tr>\n",
       "  <th>hourofday[T.17]</th>   <td>    0.7054</td> <td>    0.100</td> <td>    7.069</td> <td> 0.000</td> <td>    0.510</td> <td>    0.901</td>\n",
       "</tr>\n",
       "<tr>\n",
       "  <th>hourofday[T.18]</th>   <td>    0.7513</td> <td>    0.095</td> <td>    7.894</td> <td> 0.000</td> <td>    0.565</td> <td>    0.938</td>\n",
       "</tr>\n",
       "<tr>\n",
       "  <th>hourofday[T.19]</th>   <td>    0.4884</td> <td>    0.096</td> <td>    5.064</td> <td> 0.000</td> <td>    0.299</td> <td>    0.677</td>\n",
       "</tr>\n",
       "<tr>\n",
       "  <th>hourofday[T.20]</th>   <td>    0.1881</td> <td>    0.092</td> <td>    2.039</td> <td> 0.041</td> <td>    0.007</td> <td>    0.369</td>\n",
       "</tr>\n",
       "<tr>\n",
       "  <th>hourofday[T.21]</th>   <td>    0.0927</td> <td>    0.095</td> <td>    0.976</td> <td> 0.329</td> <td>   -0.093</td> <td>    0.279</td>\n",
       "</tr>\n",
       "<tr>\n",
       "  <th>hourofday[T.22]</th>   <td>   -0.0046</td> <td>    0.095</td> <td>   -0.048</td> <td> 0.962</td> <td>   -0.191</td> <td>    0.182</td>\n",
       "</tr>\n",
       "<tr>\n",
       "  <th>hourofday[T.23]</th>   <td>   -0.0058</td> <td>    0.101</td> <td>   -0.058</td> <td> 0.954</td> <td>   -0.203</td> <td>    0.191</td>\n",
       "</tr>\n",
       "<tr>\n",
       "  <th>dayofweek[T.1]</th>    <td>    0.0565</td> <td>    0.059</td> <td>    0.964</td> <td> 0.335</td> <td>   -0.058</td> <td>    0.172</td>\n",
       "</tr>\n",
       "<tr>\n",
       "  <th>dayofweek[T.2]</th>    <td>    0.3172</td> <td>    0.058</td> <td>    5.478</td> <td> 0.000</td> <td>    0.204</td> <td>    0.431</td>\n",
       "</tr>\n",
       "<tr>\n",
       "  <th>dayofweek[T.3]</th>    <td>    0.4091</td> <td>    0.058</td> <td>    7.059</td> <td> 0.000</td> <td>    0.296</td> <td>    0.523</td>\n",
       "</tr>\n",
       "<tr>\n",
       "  <th>dayofweek[T.4]</th>    <td>    0.4713</td> <td>    0.057</td> <td>    8.229</td> <td> 0.000</td> <td>    0.359</td> <td>    0.583</td>\n",
       "</tr>\n",
       "<tr>\n",
       "  <th>dayofweek[T.5]</th>    <td>    0.4116</td> <td>    0.058</td> <td>    7.143</td> <td> 0.000</td> <td>    0.299</td> <td>    0.525</td>\n",
       "</tr>\n",
       "<tr>\n",
       "  <th>dayofweek[T.6]</th>    <td>    0.3117</td> <td>    0.056</td> <td>    5.576</td> <td> 0.000</td> <td>    0.202</td> <td>    0.421</td>\n",
       "</tr>\n",
       "<tr>\n",
       "  <th>pickup_longitude</th>  <td>    0.0005</td> <td>    0.001</td> <td>    0.313</td> <td> 0.754</td> <td>   -0.002</td> <td>    0.003</td>\n",
       "</tr>\n",
       "<tr>\n",
       "  <th>pickup_latitude</th>   <td>    0.0001</td> <td>    0.011</td> <td>    0.013</td> <td> 0.989</td> <td>   -0.021</td> <td>    0.021</td>\n",
       "</tr>\n",
       "<tr>\n",
       "  <th>dropoff_longitude</th> <td>    0.0001</td> <td>    0.002</td> <td>    0.080</td> <td> 0.936</td> <td>   -0.003</td> <td>    0.004</td>\n",
       "</tr>\n",
       "<tr>\n",
       "  <th>trip_distance</th>     <td>    2.1842</td> <td>    0.009</td> <td>  235.479</td> <td> 0.000</td> <td>    2.166</td> <td>    2.202</td>\n",
       "</tr>\n",
       "<tr>\n",
       "  <th>dropoff_latitude</th>  <td>   -0.0002</td> <td>    0.011</td> <td>   -0.015</td> <td> 0.988</td> <td>   -0.021</td> <td>    0.021</td>\n",
       "</tr>\n",
       "<tr>\n",
       "  <th>passenger_count</th>   <td>    0.0246</td> <td>    0.011</td> <td>    2.170</td> <td> 0.030</td> <td>    0.002</td> <td>    0.047</td>\n",
       "</tr>\n",
       "</table>\n",
       "<table class=\"simpletable\">\n",
       "<tr>\n",
       "  <th>Omnibus:</th>       <td>52419.586</td> <th>  Durbin-Watson:     </th>    <td>   1.359</td>   \n",
       "</tr>\n",
       "<tr>\n",
       "  <th>Prob(Omnibus):</th>  <td> 0.000</td>   <th>  Jarque-Bera (JB):  </th> <td>1229783322.276</td>\n",
       "</tr>\n",
       "<tr>\n",
       "  <th>Skew:</th>           <td>-16.575</td>  <th>  Prob(JB):          </th>    <td>    0.00</td>   \n",
       "</tr>\n",
       "<tr>\n",
       "  <th>Kurtosis:</th>      <td>1079.328</td>  <th>  Cond. No.          </th>    <td>2.94e+03</td>   \n",
       "</tr>\n",
       "</table><br/><br/>Notes:<br/>[1] Standard Errors assume that the covariance matrix of the errors is correctly specified.<br/>[2] The condition number is large, 2.94e+03. This might indicate that there are<br/>strong multicollinearity or other numerical problems."
      ],
      "text/plain": [
       "<class 'statsmodels.iolib.summary.Summary'>\n",
       "\"\"\"\n",
       "                            OLS Regression Results                            \n",
       "==============================================================================\n",
       "Dep. Variable:             total_fare   R-squared:                       0.687\n",
       "Model:                            OLS   Adj. R-squared:                  0.687\n",
       "Method:                 Least Squares   F-statistic:                     1596.\n",
       "Date:                Sun, 02 Jan 2022   Prob (F-statistic):               0.00\n",
       "Time:                        17:03:43   Log-Likelihood:                -57914.\n",
       "No. Observations:               25453   AIC:                         1.159e+05\n",
       "Df Residuals:                   25417   BIC:                         1.162e+05\n",
       "Df Model:                          35                                         \n",
       "Covariance Type:            nonrobust                                         \n",
       "=====================================================================================\n",
       "                        coef    std err          t      P>|t|      [0.025      0.975]\n",
       "-------------------------------------------------------------------------------------\n",
       "Intercept             3.7879      0.136     27.918      0.000       3.522       4.054\n",
       "hourofday[T.01]      -0.1544      0.114     -1.357      0.175      -0.378       0.069\n",
       "hourofday[T.02]      -0.3664      0.115     -3.193      0.001      -0.591      -0.141\n",
       "hourofday[T.03]      -1.0878      0.150     -7.276      0.000      -1.381      -0.795\n",
       "hourofday[T.04]      -0.4502      0.172     -2.618      0.009      -0.787      -0.113\n",
       "hourofday[T.05]      -0.5463      0.178     -3.067      0.002      -0.895      -0.197\n",
       "hourofday[T.06]      -0.6553      0.133     -4.938      0.000      -0.915      -0.395\n",
       "hourofday[T.07]      -0.0780      0.106     -0.737      0.461      -0.285       0.129\n",
       "hourofday[T.08]       0.7685      0.101      7.603      0.000       0.570       0.967\n",
       "hourofday[T.09]       0.8668      0.099      8.719      0.000       0.672       1.062\n",
       "hourofday[T.10]       0.7874      0.099      7.938      0.000       0.593       0.982\n",
       "hourofday[T.11]       0.7569      0.097      7.836      0.000       0.568       0.946\n",
       "hourofday[T.12]       0.7487      0.096      7.794      0.000       0.560       0.937\n",
       "hourofday[T.13]       0.8239      0.100      8.275      0.000       0.629       1.019\n",
       "hourofday[T.14]       0.9214      0.097      9.500      0.000       0.731       1.111\n",
       "hourofday[T.15]       0.7368      0.102      7.241      0.000       0.537       0.936\n",
       "hourofday[T.16]       0.6273      0.107      5.874      0.000       0.418       0.837\n",
       "hourofday[T.17]       0.7054      0.100      7.069      0.000       0.510       0.901\n",
       "hourofday[T.18]       0.7513      0.095      7.894      0.000       0.565       0.938\n",
       "hourofday[T.19]       0.4884      0.096      5.064      0.000       0.299       0.677\n",
       "hourofday[T.20]       0.1881      0.092      2.039      0.041       0.007       0.369\n",
       "hourofday[T.21]       0.0927      0.095      0.976      0.329      -0.093       0.279\n",
       "hourofday[T.22]      -0.0046      0.095     -0.048      0.962      -0.191       0.182\n",
       "hourofday[T.23]      -0.0058      0.101     -0.058      0.954      -0.203       0.191\n",
       "dayofweek[T.1]        0.0565      0.059      0.964      0.335      -0.058       0.172\n",
       "dayofweek[T.2]        0.3172      0.058      5.478      0.000       0.204       0.431\n",
       "dayofweek[T.3]        0.4091      0.058      7.059      0.000       0.296       0.523\n",
       "dayofweek[T.4]        0.4713      0.057      8.229      0.000       0.359       0.583\n",
       "dayofweek[T.5]        0.4116      0.058      7.143      0.000       0.299       0.525\n",
       "dayofweek[T.6]        0.3117      0.056      5.576      0.000       0.202       0.421\n",
       "pickup_longitude      0.0005      0.001      0.313      0.754      -0.002       0.003\n",
       "pickup_latitude       0.0001      0.011      0.013      0.989      -0.021       0.021\n",
       "dropoff_longitude     0.0001      0.002      0.080      0.936      -0.003       0.004\n",
       "trip_distance         2.1842      0.009    235.479      0.000       2.166       2.202\n",
       "dropoff_latitude     -0.0002      0.011     -0.015      0.988      -0.021       0.021\n",
       "passenger_count       0.0246      0.011      2.170      0.030       0.002       0.047\n",
       "==============================================================================\n",
       "Omnibus:                    52419.586   Durbin-Watson:                   1.359\n",
       "Prob(Omnibus):                  0.000   Jarque-Bera (JB):       1229783322.276\n",
       "Skew:                         -16.575   Prob(JB):                         0.00\n",
       "Kurtosis:                    1079.328   Cond. No.                     2.94e+03\n",
       "==============================================================================\n",
       "\n",
       "Notes:\n",
       "[1] Standard Errors assume that the covariance matrix of the errors is correctly specified.\n",
       "[2] The condition number is large, 2.94e+03. This might indicate that there are\n",
       "strong multicollinearity or other numerical problems.\n",
       "\"\"\""
      ]
     },
     "execution_count": 209,
     "metadata": {},
     "output_type": "execute_result"
    }
   ],
   "source": [
    "# print a summary of the fitted model\n",
    "lm1.summary()"
   ]
  },
  {
   "cell_type": "markdown",
   "id": "43db80ce",
   "metadata": {},
   "source": [
    "# Conclusion"
   ]
  },
  {
   "cell_type": "markdown",
   "id": "d8b8a553",
   "metadata": {},
   "source": [
    "### Applied Random Forest Algorithm to find feature importance and compare with multiple linear Regression.For Multiple linear regression,Done analysis with outliers and without outliers.    RMSE with outliers \"5.12\"(after improving Feature Engineering by considering within NYC), which is significantly better than 9.47 initially.     RMSE without outliers \"1.69\" for both algorithms"
   ]
  },
  {
   "cell_type": "code",
   "execution_count": null,
   "id": "ad1c20c7",
   "metadata": {},
   "outputs": [],
   "source": []
  }
 ],
 "metadata": {
  "kernelspec": {
   "display_name": "Python 3 (ipykernel)",
   "language": "python",
   "name": "python3"
  },
  "language_info": {
   "codemirror_mode": {
    "name": "ipython",
    "version": 3
   },
   "file_extension": ".py",
   "mimetype": "text/x-python",
   "name": "python",
   "nbconvert_exporter": "python",
   "pygments_lexer": "ipython3",
   "version": "3.7.3"
  }
 },
 "nbformat": 4,
 "nbformat_minor": 5
}
